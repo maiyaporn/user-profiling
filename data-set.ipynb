{
 "metadata": {
  "name": ""
 },
 "nbformat": 3,
 "nbformat_minor": 0,
 "worksheets": [
  {
   "cells": [
    {
     "cell_type": "code",
     "collapsed": false,
     "input": [
      "from pandas import *\n",
      "import json\n",
      "import numpy as np\n",
      "import matplotlib.pyplot as plt"
     ],
     "language": "python",
     "metadata": {},
     "outputs": [],
     "prompt_number": 91
    },
    {
     "cell_type": "code",
     "collapsed": false,
     "input": [
      "ls"
     ],
     "language": "python",
     "metadata": {},
     "outputs": [
      {
       "output_type": "stream",
       "stream": "stdout",
       "text": [
        "README.md             data-set.ipynb\r\n",
        "data-set-Copy0.ipynb  \u001b[34mdataset\u001b[m\u001b[m/\r\n"
       ]
      }
     ],
     "prompt_number": 81
    },
    {
     "cell_type": "code",
     "collapsed": false,
     "input": [
      "file_dir = 'dataset/yelp_dataset_challenge_academic_dataset/'\n",
      "file_business = 'yelp_academic_dataset_business.json'\n",
      "file_review = 'yelp_academic_dataset_review.json'\n",
      "file_user = 'yelp_academic_dataset_user.json'\n",
      "file_tip = 'yelp_academic_dataset_tip.json'\n",
      "#file_checkin = 'yelp_academic_dataset_checkin.json'"
     ],
     "language": "python",
     "metadata": {},
     "outputs": [],
     "prompt_number": 82
    },
    {
     "cell_type": "heading",
     "level": 3,
     "metadata": {},
     "source": [
      "Business objects"
     ]
    },
    {
     "cell_type": "code",
     "collapsed": false,
     "input": [
      "business = [json.loads(line, encoding='utf-8') for line in open(file_dir+file_business)]\n",
      "bdf = DataFrame(business)"
     ],
     "language": "python",
     "metadata": {},
     "outputs": [],
     "prompt_number": 16
    },
    {
     "cell_type": "code",
     "collapsed": false,
     "input": [
      "bdf"
     ],
     "language": "python",
     "metadata": {},
     "outputs": [
      {
       "html": [
        "<pre>\n",
        "&lt;class 'pandas.core.frame.DataFrame'&gt;\n",
        "Int64Index: 42153 entries, 0 to 42152\n",
        "Data columns (total 15 columns):\n",
        "attributes       42153  non-null values\n",
        "business_id      42153  non-null values\n",
        "categories       42153  non-null values\n",
        "city             42153  non-null values\n",
        "full_address     42153  non-null values\n",
        "hours            42153  non-null values\n",
        "latitude         42153  non-null values\n",
        "longitude        42153  non-null values\n",
        "name             42153  non-null values\n",
        "neighborhoods    42153  non-null values\n",
        "open             42153  non-null values\n",
        "review_count     42153  non-null values\n",
        "stars            42153  non-null values\n",
        "state            42153  non-null values\n",
        "type             42153  non-null values\n",
        "dtypes: bool(1), float64(3), int64(1), object(10)\n",
        "</pre>"
       ],
       "metadata": {},
       "output_type": "pyout",
       "prompt_number": 17,
       "text": [
        "<class 'pandas.core.frame.DataFrame'>\n",
        "Int64Index: 42153 entries, 0 to 42152\n",
        "Data columns (total 15 columns):\n",
        "attributes       42153  non-null values\n",
        "business_id      42153  non-null values\n",
        "categories       42153  non-null values\n",
        "city             42153  non-null values\n",
        "full_address     42153  non-null values\n",
        "hours            42153  non-null values\n",
        "latitude         42153  non-null values\n",
        "longitude        42153  non-null values\n",
        "name             42153  non-null values\n",
        "neighborhoods    42153  non-null values\n",
        "open             42153  non-null values\n",
        "review_count     42153  non-null values\n",
        "stars            42153  non-null values\n",
        "state            42153  non-null values\n",
        "type             42153  non-null values\n",
        "dtypes: bool(1), float64(3), int64(1), object(10)"
       ]
      }
     ],
     "prompt_number": 17
    },
    {
     "cell_type": "heading",
     "level": 4,
     "metadata": {},
     "source": [
      "Explore business categories"
     ]
    },
    {
     "cell_type": "code",
     "collapsed": false,
     "input": [
      "bdf.categories"
     ],
     "language": "python",
     "metadata": {},
     "outputs": [
      {
       "metadata": {},
       "output_type": "pyout",
       "prompt_number": 18,
       "text": [
        "0                           [Doctors, Health & Medical]\n",
        "1                                         [Restaurants]\n",
        "2                 [American (Traditional), Restaurants]\n",
        "3     [Food, Ice Cream & Frozen Yogurt, Fast Food, R...\n",
        "4                                [Chinese, Restaurants]\n",
        "5                     [Television Stations, Mass Media]\n",
        "6      [Home Services, Heating & Air Conditioning/HVAC]\n",
        "7             [Libraries, Public Services & Government]\n",
        "8                 [American (Traditional), Restaurants]\n",
        "9                                 [Veterinarians, Pets]\n",
        "10    [Bars, American (Traditional), Nightlife, Loun...\n",
        "11    [Hotels & Travel, Bed & Breakfast, Event Plann...\n",
        "12                               [Active Life, Bowling]\n",
        "13                                 [Pizza, Restaurants]\n",
        "14                               [Chinese, Restaurants]\n",
        "...\n",
        "42138    [Breakfast & Brunch, American (Traditional), R...\n",
        "42139                 [Food, Desserts, Cupcakes, Bakeries]\n",
        "42140                              [Filipino, Restaurants]\n",
        "42141                       [Active Life, Amusement Parks]\n",
        "42142                               [Burgers, Restaurants]\n",
        "42143                         [Chicken Wings, Restaurants]\n",
        "42144                        [American (New), Restaurants]\n",
        "42145    [Food, Juice Bars & Smoothies, American (New),...\n",
        "42146    [Bars, Turkish, Mediterranean, Nightlife, Loun...\n",
        "42147              [Bars, Hookah Bars, Nightlife, Lounges]\n",
        "42148        [Food, Desserts, Italian, Pizza, Restaurants]\n",
        "42149    [Active Life, Barre Classes, Pilates, Fitness ...\n",
        "42150                          [Yelp Events, Local Flavor]\n",
        "42151                [Kosher, Italian, Pizza, Restaurants]\n",
        "42152         [Food, Ethnic Food, Grocery, Specialty Food]\n",
        "Name: categories, Length: 42153, dtype: object"
       ]
      }
     ],
     "prompt_number": 18
    },
    {
     "cell_type": "code",
     "collapsed": false,
     "input": [
      "# Convert category list to tuple\n",
      "bdf.categories = bdf.categories.apply(lambda x: tuple(x))"
     ],
     "language": "python",
     "metadata": {},
     "outputs": [],
     "prompt_number": 23
    },
    {
     "cell_type": "code",
     "collapsed": false,
     "input": [
      "bdf.categories.nunique()"
     ],
     "language": "python",
     "metadata": {},
     "outputs": [
      {
       "metadata": {},
       "output_type": "pyout",
       "prompt_number": 24,
       "text": [
        "5945"
       ]
      }
     ],
     "prompt_number": 24
    },
    {
     "cell_type": "code",
     "collapsed": false,
     "input": [
      "bdf.categories.unique()"
     ],
     "language": "python",
     "metadata": {},
     "outputs": [
      {
       "metadata": {},
       "output_type": "pyout",
       "prompt_number": 25,
       "text": [
        "array([(u'Doctors', u'Health & Medical'), (u'Restaurants',),\n",
        "       (u'American (Traditional)', u'Restaurants'), ...,\n",
        "       (u'Food', u'Tea Rooms', u'Coffee & Tea', u'Asian Fusion', u'Restaurants'),\n",
        "       (u'Food', u'Juice Bars & Smoothies', u'American (New)', u'Gluten-Free', u'Restaurants'),\n",
        "       (u'Bars', u'Turkish', u'Mediterranean', u'Nightlife', u'Lounges', u'Restaurants')], dtype=object)"
       ]
      }
     ],
     "prompt_number": 25
    },
    {
     "cell_type": "code",
     "collapsed": false,
     "input": [
      "bdf.groupby('categories').size()"
     ],
     "language": "python",
     "metadata": {},
     "outputs": [
      {
       "metadata": {},
       "output_type": "pyout",
       "prompt_number": 26,
       "text": [
        "categories\n",
        "()                                                              339\n",
        "(Accessories, Fashion, Shopping, Cosmetics & Beauty Supply, Beauty & Spas)      1\n",
        "(Accountants, Professional Services)                             10\n",
        "(Accountants, Professional Services, Payroll Services, Financial Advising, Financial Services)      1\n",
        "(Accountants, Professional Services, Payroll Services, Tax Services, Financial Services)      3\n",
        "(Accountants, Professional Services, Tax Services, Financial Advising, Financial Services)      2\n",
        "(Accountants, Professional Services, Tax Services, Financial Services)     12\n",
        "(Active Life,)                                                   36\n",
        "(Active Life, Amateur Sports Teams)                              14\n",
        "(Active Life, Amateur Sports Teams, Parks)                        1\n",
        "(Active Life, Amateur Sports Teams, Sports Clubs)                 1\n",
        "(Active Life, American (New), Golf, Restaurants)                  2\n",
        "(Active Life, American (Traditional), Amusement Parks, Restaurants)      1\n",
        "(Active Life, American (Traditional), Golf, Restaurants)          5\n",
        "(Active Life, Amusement Parks)                                   33\n",
        "...\n",
        "(Women's Clothing, Thrift Stores, Shopping, Fashion, Accessories)     1\n",
        "(Women's Clothing, Used, Vintage & Consignment, Fashion, Shopping)    10\n",
        "(Women's Clothing, Used, Vintage & Consignment, Fashion, Shopping, Accessories)     2\n",
        "(Women's Clothing, Used, Vintage & Consignment, Fashion, Shopping, Discount Store)     1\n",
        "(Women's Clothing, Used, Vintage & Consignment, Fashion, Shopping, Jewelry)     1\n",
        "(Women's Clothing, Used, Vintage & Consignment, Fashion, Shopping, Men's Clothing)     5\n",
        "(Women's Clothing, Used, Vintage & Consignment, Fashion, Shopping, Thrift Stores)     1\n",
        "(Women's Clothing, Used, Vintage & Consignment, Thrift Stores, Shopping, Fashion)     3\n",
        "(Yelp Events, Local Flavor)                                     14\n",
        "(Yoga, Beauty & Spas, Food, Juice Bars & Smoothies, Fitness & Instruction, Active Life, Massage)     1\n",
        "(Yoga, Beauty & Spas, Health & Medical, Fitness & Instruction, Active Life, Massage)     1\n",
        "(Yoga, Beauty & Spas, Medical Spas, Health & Medical, Fitness & Instruction, Active Life, Meditation Centers)     1\n",
        "(Yoga, Beauty & Spas, Speech Therapists, Health & Medical, Fitness & Instruction, Active Life, Massage)     1\n",
        "(Yoga, Physical Therapy, Massage Therapy, Health & Medical, Fitness & Instruction, Active Life)     1\n",
        "(Yoga, Tai Chi, Adult Education, Fitness & Instruction, Active Life, Education)     1\n",
        "Length: 5945, dtype: int64"
       ]
      }
     ],
     "prompt_number": 26
    },
    {
     "cell_type": "heading",
     "level": 4,
     "metadata": {},
     "source": [
      "Extract only \"Restaurants\" businesses from dataset"
     ]
    },
    {
     "cell_type": "code",
     "collapsed": false,
     "input": [
      "resdf = bdf[bdf.categories.apply(lambda x: True if \"Restaurants\" in x else False)]"
     ],
     "language": "python",
     "metadata": {},
     "outputs": [],
     "prompt_number": 34
    },
    {
     "cell_type": "code",
     "collapsed": false,
     "input": [
      "resdf"
     ],
     "language": "python",
     "metadata": {},
     "outputs": [
      {
       "html": [
        "<pre>\n",
        "&lt;class 'pandas.core.frame.DataFrame'&gt;\n",
        "Int64Index: 14303 entries, 1 to 42151\n",
        "Data columns (total 15 columns):\n",
        "attributes       14303  non-null values\n",
        "business_id      14303  non-null values\n",
        "categories       14303  non-null values\n",
        "city             14303  non-null values\n",
        "full_address     14303  non-null values\n",
        "hours            14303  non-null values\n",
        "latitude         14303  non-null values\n",
        "longitude        14303  non-null values\n",
        "name             14303  non-null values\n",
        "neighborhoods    14303  non-null values\n",
        "open             14303  non-null values\n",
        "review_count     14303  non-null values\n",
        "stars            14303  non-null values\n",
        "state            14303  non-null values\n",
        "type             14303  non-null values\n",
        "dtypes: bool(1), float64(3), int64(1), object(10)\n",
        "</pre>"
       ],
       "metadata": {},
       "output_type": "pyout",
       "prompt_number": 35,
       "text": [
        "<class 'pandas.core.frame.DataFrame'>\n",
        "Int64Index: 14303 entries, 1 to 42151\n",
        "Data columns (total 15 columns):\n",
        "attributes       14303  non-null values\n",
        "business_id      14303  non-null values\n",
        "categories       14303  non-null values\n",
        "city             14303  non-null values\n",
        "full_address     14303  non-null values\n",
        "hours            14303  non-null values\n",
        "latitude         14303  non-null values\n",
        "longitude        14303  non-null values\n",
        "name             14303  non-null values\n",
        "neighborhoods    14303  non-null values\n",
        "open             14303  non-null values\n",
        "review_count     14303  non-null values\n",
        "stars            14303  non-null values\n",
        "state            14303  non-null values\n",
        "type             14303  non-null values\n",
        "dtypes: bool(1), float64(3), int64(1), object(10)"
       ]
      }
     ],
     "prompt_number": 35
    },
    {
     "cell_type": "code",
     "collapsed": false,
     "input": [
      "len(resdf), len(set(resdf.categories))"
     ],
     "language": "python",
     "metadata": {},
     "outputs": [
      {
       "metadata": {},
       "output_type": "pyout",
       "prompt_number": 36,
       "text": [
        "(14303, 2309)"
       ]
      }
     ],
     "prompt_number": 36
    },
    {
     "cell_type": "code",
     "collapsed": false,
     "input": [
      "resdf.categories.unique()"
     ],
     "language": "python",
     "metadata": {},
     "outputs": [
      {
       "metadata": {},
       "output_type": "pyout",
       "prompt_number": 47,
       "text": [
        "array([(u'Restaurants',), (u'American (Traditional)', u'Restaurants'),\n",
        "       (u'Food', u'Ice Cream & Frozen Yogurt', u'Fast Food', u'Restaurants'),\n",
        "       ...,\n",
        "       (u'Food', u'Tea Rooms', u'Coffee & Tea', u'Asian Fusion', u'Restaurants'),\n",
        "       (u'Food', u'Juice Bars & Smoothies', u'American (New)', u'Gluten-Free', u'Restaurants'),\n",
        "       (u'Bars', u'Turkish', u'Mediterranean', u'Nightlife', u'Lounges', u'Restaurants')], dtype=object)"
       ]
      }
     ],
     "prompt_number": 47
    },
    {
     "cell_type": "code",
     "collapsed": false,
     "input": [
      "resdf.to_json('dataset/res.json')"
     ],
     "language": "python",
     "metadata": {},
     "outputs": [],
     "prompt_number": 48
    },
    {
     "cell_type": "heading",
     "level": 4,
     "metadata": {},
     "source": [
      "City/State"
     ]
    },
    {
     "cell_type": "code",
     "collapsed": false,
     "input": [
      "resdf.state.unique()"
     ],
     "language": "python",
     "metadata": {},
     "outputs": [
      {
       "metadata": {},
       "output_type": "pyout",
       "prompt_number": 54,
       "text": [
        "array([u'WI', u'AZ', u'NV', u'GA', u'ON', u'EDH', u'MLN', u'FIF', u'ELN',\n",
        "       u'XGL', u'KHL'], dtype=object)"
       ]
      }
     ],
     "prompt_number": 54
    },
    {
     "cell_type": "code",
     "collapsed": false,
     "input": [
      "grouped_state = resdf.groupby('state').size()\n",
      "grouped_state"
     ],
     "language": "python",
     "metadata": {},
     "outputs": [
      {
       "metadata": {},
       "output_type": "pyout",
       "prompt_number": 106,
       "text": [
        "state\n",
        "AZ       7439\n",
        "EDH      1016\n",
        "ELN         4\n",
        "FIF         1\n",
        "GA          1\n",
        "KHL         1\n",
        "MLN        50\n",
        "NV       4655\n",
        "ON        219\n",
        "WI        916\n",
        "XGL         1\n",
        "dtype: int64"
       ]
      }
     ],
     "prompt_number": 106
    },
    {
     "cell_type": "code",
     "collapsed": false,
     "input": [
      "grouped_state.plot(kind='bar')"
     ],
     "language": "python",
     "metadata": {},
     "outputs": [
      {
       "metadata": {},
       "output_type": "pyout",
       "prompt_number": 114,
       "text": [
        "<matplotlib.axes.AxesSubplot at 0x405a86c10>"
       ]
      },
      {
       "metadata": {},
       "output_type": "display_data",
       "png": "[encoded data removed]",
       "text": [
        "<matplotlib.figure.Figure at 0x170c97bd0>"
       ]
      }
     ],
     "prompt_number": 114
    },
    {
     "cell_type": "code",
     "collapsed": false,
     "input": [
      "grouped_city = resdf.groupby(['state','city']).size()\n",
      "grouped_city"
     ],
     "language": "python",
     "metadata": {},
     "outputs": [
      {
       "metadata": {},
       "output_type": "pyout",
       "prompt_number": 115,
       "text": [
        "state  city                \n",
        "AZ     Ahwatukee                 3\n",
        "       Anthem                   24\n",
        "       Apache Junction          44\n",
        "       Avondale                100\n",
        "       Black Canyon City         1\n",
        "       Buckeye                  42\n",
        "       Carefree                 16\n",
        "       Casa Grande              61\n",
        "       Cave Creek               63\n",
        "       Central City Village      2\n",
        "       Chandler                548\n",
        "       Coolidge                  6\n",
        "       El Mirage                14\n",
        "       Florence                  7\n",
        "       Fort McDowell             3\n",
        "...\n",
        "WI     De Forest        5\n",
        "       DeForest         3\n",
        "       Fitchburg       38\n",
        "       Madison        679\n",
        "       Mc Farland       5\n",
        "       McFarland        3\n",
        "       Middleton       66\n",
        "       Monona          32\n",
        "       Stoughton        2\n",
        "       Sun Prairie     39\n",
        "       Trempealeau      1\n",
        "       Verona          19\n",
        "       Waunakee        14\n",
        "       Windsor          3\n",
        "XGL    Edinburgh        1\n",
        "Length: 112, dtype: int64"
       ]
      }
     ],
     "prompt_number": 115
    },
    {
     "cell_type": "code",
     "collapsed": false,
     "input": [
      "grouped_city.to_csv('dataset/state-city-res-size.csv')"
     ],
     "language": "python",
     "metadata": {},
     "outputs": [],
     "prompt_number": 116
    },
    {
     "cell_type": "code",
     "collapsed": false,
     "input": [
      "az_nv_resdf = resdf[resdf.state.isin(['AZ','NV'])]"
     ],
     "language": "python",
     "metadata": {},
     "outputs": [],
     "prompt_number": 117
    },
    {
     "cell_type": "code",
     "collapsed": false,
     "input": [
      "az_nv_resdf.to_json('dataset/az-nv-res.json')"
     ],
     "language": "python",
     "metadata": {},
     "outputs": [],
     "prompt_number": 118
    },
    {
     "cell_type": "heading",
     "level": 3,
     "metadata": {},
     "source": [
      "Review objects"
     ]
    },
    {
     "cell_type": "code",
     "collapsed": false,
     "input": [
      "review = [json.loads(line, encoding='utf-8') for line in open(file_dir+file_review)]\n",
      "rdf = DataFrame(review)"
     ],
     "language": "python",
     "metadata": {},
     "outputs": [],
     "prompt_number": 83
    },
    {
     "cell_type": "code",
     "collapsed": false,
     "input": [
      "rdf"
     ],
     "language": "python",
     "metadata": {},
     "outputs": [
      {
       "html": [
        "<pre>\n",
        "&lt;class 'pandas.core.frame.DataFrame'&gt;\n",
        "Int64Index: 1125458 entries, 0 to 1125457\n",
        "Data columns (total 8 columns):\n",
        "business_id    1125458  non-null values\n",
        "date           1125458  non-null values\n",
        "review_id      1125458  non-null values\n",
        "stars          1125458  non-null values\n",
        "text           1125458  non-null values\n",
        "type           1125458  non-null values\n",
        "user_id        1125458  non-null values\n",
        "votes          1125458  non-null values\n",
        "dtypes: int64(1), object(7)\n",
        "</pre>"
       ],
       "metadata": {},
       "output_type": "pyout",
       "prompt_number": 84,
       "text": [
        "<class 'pandas.core.frame.DataFrame'>\n",
        "Int64Index: 1125458 entries, 0 to 1125457\n",
        "Data columns (total 8 columns):\n",
        "business_id    1125458  non-null values\n",
        "date           1125458  non-null values\n",
        "review_id      1125458  non-null values\n",
        "stars          1125458  non-null values\n",
        "text           1125458  non-null values\n",
        "type           1125458  non-null values\n",
        "user_id        1125458  non-null values\n",
        "votes          1125458  non-null values\n",
        "dtypes: int64(1), object(7)"
       ]
      }
     ],
     "prompt_number": 84
    },
    {
     "cell_type": "heading",
     "level": 4,
     "metadata": {},
     "source": [
      "Extract only restaurant's review in AZ, NV"
     ]
    },
    {
     "cell_type": "code",
     "collapsed": false,
     "input": [
      "resid_list = az_nv_resdf.business_id"
     ],
     "language": "python",
     "metadata": {},
     "outputs": [],
     "prompt_number": 85
    },
    {
     "cell_type": "code",
     "collapsed": false,
     "input": [
      "resRevDf = rdf[rdf.business_id.isin(resid_list)]"
     ],
     "language": "python",
     "metadata": {},
     "outputs": [],
     "prompt_number": 86
    },
    {
     "cell_type": "code",
     "collapsed": false,
     "input": [
      "resRevDf"
     ],
     "language": "python",
     "metadata": {},
     "outputs": [
      {
       "html": [
        "<pre>\n",
        "&lt;class 'pandas.core.frame.DataFrame'&gt;\n",
        "Int64Index: 668789 entries, 3352 to 1125452\n",
        "Data columns (total 8 columns):\n",
        "business_id    668789  non-null values\n",
        "date           668789  non-null values\n",
        "review_id      668789  non-null values\n",
        "stars          668789  non-null values\n",
        "text           668789  non-null values\n",
        "type           668789  non-null values\n",
        "user_id        668789  non-null values\n",
        "votes          668789  non-null values\n",
        "dtypes: int64(1), object(7)\n",
        "</pre>"
       ],
       "metadata": {},
       "output_type": "pyout",
       "prompt_number": 87,
       "text": [
        "<class 'pandas.core.frame.DataFrame'>\n",
        "Int64Index: 668789 entries, 3352 to 1125452\n",
        "Data columns (total 8 columns):\n",
        "business_id    668789  non-null values\n",
        "date           668789  non-null values\n",
        "review_id      668789  non-null values\n",
        "stars          668789  non-null values\n",
        "text           668789  non-null values\n",
        "type           668789  non-null values\n",
        "user_id        668789  non-null values\n",
        "votes          668789  non-null values\n",
        "dtypes: int64(1), object(7)"
       ]
      }
     ],
     "prompt_number": 87
    },
    {
     "cell_type": "heading",
     "level": 4,
     "metadata": {},
     "source": [
      "Select user's with more than 10 reviews"
     ]
    },
    {
     "cell_type": "code",
     "collapsed": false,
     "input": [
      "grouped_user = resRevDf.groupby('user_id').size()\n",
      "grouped_user"
     ],
     "language": "python",
     "metadata": {},
     "outputs": [
      {
       "metadata": {},
       "output_type": "pyout",
       "prompt_number": 88,
       "text": [
        "user_id\n",
        "--0UjkPJgtE_IS3R1Y1pDw      1\n",
        "--0mI_q_0D1CdU4P_hoImQ      1\n",
        "--2QZsyXGz1OhiD4-0FQLQ      3\n",
        "--4fX3LBeXoE88gDTK6TKQ      6\n",
        "--65q1FpAL_UQtVZ2PTGew    136\n",
        "--82_AVgRBsLw6Dhy8sEnA      1\n",
        "--AqBuo717RyacADExYbSA      3\n",
        "--BOhgWmYLIAnbEQhpu_mw      1\n",
        "--BnK7rx64Gu9KAb2OjMxQ      2\n",
        "--D6B8SF9EAIaS4O7wLVJw      2\n",
        "--E8HPRm1TvCpBFrDRfq2A      3\n",
        "--Gjrja8RffTz9nKHXsXpA      2\n",
        "--J9z98Cjl4t_ZnvmNy2mA      6\n",
        "--JC6ri9lh1-tazGOFA3yg      1\n",
        "--M-cIkGnH1KhnLaCOmoPQ      1\n",
        "...\n",
        "zzgJ9L18TJUVN72Iio0B_w     1\n",
        "zzgZQ82lydXrHM-tI-RsWw     2\n",
        "zzgdonfOjTpWGzfsVl2nFA     1\n",
        "zzhdnNeg65wupOXqYtGyJw     1\n",
        "zzjDTs2svkHPHlpzEO3lfg     2\n",
        "zzjbYl789JCxRoccM1TpUQ     7\n",
        "zzkF2B_PGcNLF8g7zy6k1w     2\n",
        "zzlEOrvF8EkkX4fxCwPZdw     1\n",
        "zzmRKNph-pBHDL2qwGv9Fw    32\n",
        "zznUhVBuxM-Hl5_2P6bO_Q     1\n",
        "zzr0gcwOWFGBBqQ11_xPOQ     1\n",
        "zztT9KKp0rmJRMeMl4CqzQ     4\n",
        "zzvflqB4xAcKFbIbS6HSOw     6\n",
        "zzvrDmRAYdvIVRGszSFPGQ     1\n",
        "zzxS_6HGJx5mp7aSO6yfpA     1\n",
        "Length: 176004, dtype: int64"
       ]
      }
     ],
     "prompt_number": 88
    },
    {
     "cell_type": "code",
     "collapsed": false,
     "input": [
      "plt.hist(grouped_user.values, bins=10)"
     ],
     "language": "python",
     "metadata": {},
     "outputs": [
      {
       "metadata": {},
       "output_type": "pyout",
       "prompt_number": 138,
       "text": [
        "(array([  1.75659000e+05,   2.64000000e+02,   5.10000000e+01,\n",
        "         1.30000000e+01,   1.20000000e+01,   3.00000000e+00,\n",
        "         1.00000000e+00,   0.00000000e+00,   0.00000000e+00,\n",
        "         1.00000000e+00]),\n",
        " array([  1.00000000e+00,   1.02400000e+02,   2.03800000e+02,\n",
        "         3.05200000e+02,   4.06600000e+02,   5.08000000e+02,\n",
        "         6.09400000e+02,   7.10800000e+02,   8.12200000e+02,\n",
        "         9.13600000e+02,   1.01500000e+03]),\n",
        " <a list of 10 Patch objects>)"
       ]
      },
      {
       "metadata": {},
       "output_type": "display_data",
       "png": "[encoded data removed]",
       "text": [
        "<matplotlib.figure.Figure at 0x103179190>"
       ]
      }
     ],
     "prompt_number": 138
    },
    {
     "cell_type": "code",
     "collapsed": false,
     "input": [
      "len(grouped_user[grouped_user<10])"
     ],
     "language": "python",
     "metadata": {},
     "outputs": [
      {
       "metadata": {},
       "output_type": "pyout",
       "prompt_number": 120,
       "text": [
        "164121"
       ]
      }
     ],
     "prompt_number": 120
    },
    {
     "cell_type": "code",
     "collapsed": false,
     "input": [
      "plt.hist(grouped_user.values, bins=10, range=[1,10])"
     ],
     "language": "python",
     "metadata": {},
     "outputs": [
      {
       "metadata": {},
       "output_type": "pyout",
       "prompt_number": 121,
       "text": [
        "(array([ 91392.,  30454.,  15568.,   9263.,   6229.,   4216.,   3020.,\n",
        "         2266.,   1713.,   1395.]),\n",
        " array([  1. ,   1.9,   2.8,   3.7,   4.6,   5.5,   6.4,   7.3,   8.2,\n",
        "         9.1,  10. ]),\n",
        " <a list of 10 Patch objects>)"
       ]
      },
      {
       "metadata": {},
       "output_type": "display_data",
       "png": "[encoded data removed]",
       "text": [
        "<matplotlib.figure.Figure at 0x4057edf10>"
       ]
      }
     ],
     "prompt_number": 121
    },
    {
     "cell_type": "code",
     "collapsed": false,
     "input": [
      "grouped_user_10 = grouped_user[grouped_user>=10]\n",
      "grouped_user_10.sort(ascending=False)"
     ],
     "language": "python",
     "metadata": {},
     "outputs": [],
     "prompt_number": 124
    },
    {
     "cell_type": "code",
     "collapsed": false,
     "input": [
      "grouped_user_10"
     ],
     "language": "python",
     "metadata": {},
     "outputs": [
      {
       "metadata": {},
       "output_type": "pyout",
       "prompt_number": 125,
       "text": [
        "user_id\n",
        "ikm0UCahtK34LbLCEw4YTw    1015\n",
        "kGgAARL2UmvCcTRfiscjug     652\n",
        "3gIfcQq5KxAegwCPXc83cQ     602\n",
        "DrWLhrK8WMZf7Jb-Oqc7ww     566\n",
        "glRXVWWD6x1EZKfjJawTOg     559\n",
        "ia1nTRAQEaFWv0cwADeK7g     495\n",
        "90a6z--_CUrl84aCzZyPsg     492\n",
        "Iu3Jo9ROp2IWC9FwtWOaUQ     466\n",
        "0bNXP9quoJEgyVZu9ipGgQ     462\n",
        "PV5voYSD43Cn_3gHmxG7DA     460\n",
        "C6IOtaaYdLIT5fWd7ZYIuA     451\n",
        "uZbTb-u-GVjTa2gtQfry5g     448\n",
        "lHHwLi_YZuDSfdlSShFkug     445\n",
        "fczQCSmaWF78toLEmb0Zsw     435\n",
        "joIzw_aUiNvBTuGoytrH7g     431\n",
        "...\n",
        "vPiOblnTc_2HtE0WG6r3gg    10\n",
        "H5IG3XPCptENN9-_G4rctw    10\n",
        "hMwp3TYzSMaZvvHAkZdp9A    10\n",
        "oQZeITmS8rppOi9YukhbaQ    10\n",
        "oQi2TMdbu3N5EL6WrSZD1A    10\n",
        "dlC1iFmKO9bzsgbe_VTr2g    10\n",
        "dj7WWlO0D-W_esWXKGTLBA    10\n",
        "vQdlAQCAd3S5BUnyDc-ruA    10\n",
        "qLT-xqFCoVlIwreGS7GjuQ    10\n",
        "dk2hdhgUuLIhTwkHvzMkAQ    10\n",
        "dkVolgMndtvKMIM3cXEr4A    10\n",
        "oRif0IN7pqqWluprQgyWjw    10\n",
        "Bz6FtkgGDJkWAPV1B4OR8w    10\n",
        "VZjwBS0td4EXCdlPIYxH-A    10\n",
        "V_BGQM7iKEyY1QcbHWxi0Q    10\n",
        "Length: 11883, dtype: int64"
       ]
      }
     ],
     "prompt_number": 125
    },
    {
     "cell_type": "code",
     "collapsed": false,
     "input": [
      "plt.hist(grouped_user_10.values, bins=10, range=[10,100])"
     ],
     "language": "python",
     "metadata": {},
     "outputs": [
      {
       "metadata": {},
       "output_type": "pyout",
       "prompt_number": 129,
       "text": [
        "(array([ 6946.,  2073.,   941.,   462.,   316.,   243.,   170.,   136.,\n",
        "         125.,   112.]),\n",
        " array([  10.,   19.,   28.,   37.,   46.,   55.,   64.,   73.,   82.,\n",
        "         91.,  100.]),\n",
        " <a list of 10 Patch objects>)"
       ]
      },
      {
       "metadata": {},
       "output_type": "display_data",
       "png": "[encoded data removed]",
       "text": [
        "<matplotlib.figure.Figure at 0x405143d10>"
       ]
      }
     ],
     "prompt_number": 129
    },
    {
     "cell_type": "code",
     "collapsed": false,
     "input": [
      "plt.hist(grouped_user_10.values, bins=10, range=[100,600])"
     ],
     "language": "python",
     "metadata": {},
     "outputs": [
      {
       "metadata": {},
       "output_type": "pyout",
       "prompt_number": 130,
       "text": [
        "(array([ 211.,   75.,   27.,   26.,    7.,    7.,    6.,    6.,    0.,    2.]),\n",
        " array([ 100.,  150.,  200.,  250.,  300.,  350.,  400.,  450.,  500.,\n",
        "        550.,  600.]),\n",
        " <a list of 10 Patch objects>)"
       ]
      },
      {
       "metadata": {},
       "output_type": "display_data",
       "png": "[encoded data removed]",
       "text": [
        "<matplotlib.figure.Figure at 0x405294810>"
       ]
      }
     ],
     "prompt_number": 130
    },
    {
     "cell_type": "code",
     "collapsed": false,
     "input": [
      "userId_10 = grouped_user_10.index.values"
     ],
     "language": "python",
     "metadata": {},
     "outputs": [],
     "prompt_number": 131
    },
    {
     "cell_type": "code",
     "collapsed": false,
     "input": [
      "resRevDf_10 = resRevDf[resRevDf.user_id.isin(userId_10)]"
     ],
     "language": "python",
     "metadata": {},
     "outputs": [],
     "prompt_number": 132
    },
    {
     "cell_type": "code",
     "collapsed": false,
     "input": [
      "resRevDf_10.to_json('dataset/review-10.json')"
     ],
     "language": "python",
     "metadata": {},
     "outputs": [],
     "prompt_number": 133
    },
    {
     "cell_type": "heading",
     "level": 4,
     "metadata": {},
     "source": [
      "Extract review for user with >= 20"
     ]
    },
    {
     "cell_type": "code",
     "collapsed": false,
     "input": [
      "grouped_user_20 = grouped_user[grouped_user >= 20]"
     ],
     "language": "python",
     "metadata": {},
     "outputs": [],
     "prompt_number": 134
    },
    {
     "cell_type": "code",
     "collapsed": false,
     "input": [
      "len(grouped_user_20)"
     ],
     "language": "python",
     "metadata": {},
     "outputs": [
      {
       "metadata": {},
       "output_type": "pyout",
       "prompt_number": 135,
       "text": [
        "4601"
       ]
      }
     ],
     "prompt_number": 135
    },
    {
     "cell_type": "code",
     "collapsed": false,
     "input": [
      "userId_20 = grouped_user_20.index.values\n",
      "resRevDf_20 = resRevDf[resRevDf.user_id.isin(userId_20)]\n",
      "resRevDf_20.to_json('dataset/review-20.json')"
     ],
     "language": "python",
     "metadata": {},
     "outputs": [],
     "prompt_number": 137
    },
    {
     "cell_type": "code",
     "collapsed": false,
     "input": [
      "grouped_user_50 = grouped_user[grouped_user >= 50]\n",
      "print len(grouped_user_50)\n",
      "userId_50 = grouped_user_50.index.values\n",
      "resRevDf_50 = resRevDf[resRevDf.user_id.isin(userId_50)]\n",
      "resRevDf_50.to_json('dataset/review-50.json')"
     ],
     "language": "python",
     "metadata": {},
     "outputs": [
      {
       "output_type": "stream",
       "stream": "stdout",
       "text": [
        "1310\n"
       ]
      }
     ],
     "prompt_number": 139
    },
    {
     "cell_type": "heading",
     "level": 3,
     "metadata": {},
     "source": [
      "User objects"
     ]
    },
    {
     "cell_type": "code",
     "collapsed": false,
     "input": [
      "user = [json.loads(line, encoding='utf-8') for line in open(file_dir+file_user)]\n",
      "udf = DataFrame(user)"
     ],
     "language": "python",
     "metadata": {},
     "outputs": [],
     "prompt_number": 141
    },
    {
     "cell_type": "code",
     "collapsed": false,
     "input": [
      "udf"
     ],
     "language": "python",
     "metadata": {},
     "outputs": [
      {
       "html": [
        "<pre>\n",
        "&lt;class 'pandas.core.frame.DataFrame'&gt;\n",
        "Int64Index: 252898 entries, 0 to 252897\n",
        "Data columns (total 11 columns):\n",
        "average_stars    252898  non-null values\n",
        "compliments      252898  non-null values\n",
        "elite            252898  non-null values\n",
        "fans             252898  non-null values\n",
        "friends          252898  non-null values\n",
        "name             252898  non-null values\n",
        "review_count     252898  non-null values\n",
        "type             252898  non-null values\n",
        "user_id          252898  non-null values\n",
        "votes            252898  non-null values\n",
        "yelping_since    252898  non-null values\n",
        "dtypes: float64(1), int64(2), object(8)\n",
        "</pre>"
       ],
       "metadata": {},
       "output_type": "pyout",
       "prompt_number": 142,
       "text": [
        "<class 'pandas.core.frame.DataFrame'>\n",
        "Int64Index: 252898 entries, 0 to 252897\n",
        "Data columns (total 11 columns):\n",
        "average_stars    252898  non-null values\n",
        "compliments      252898  non-null values\n",
        "elite            252898  non-null values\n",
        "fans             252898  non-null values\n",
        "friends          252898  non-null values\n",
        "name             252898  non-null values\n",
        "review_count     252898  non-null values\n",
        "type             252898  non-null values\n",
        "user_id          252898  non-null values\n",
        "votes            252898  non-null values\n",
        "yelping_since    252898  non-null values\n",
        "dtypes: float64(1), int64(2), object(8)"
       ]
      }
     ],
     "prompt_number": 142
    },
    {
     "cell_type": "code",
     "collapsed": false,
     "input": [
      "udf[:3]"
     ],
     "language": "python",
     "metadata": {},
     "outputs": [
      {
       "html": [
        "<div style=\"max-height:1000px;max-width:1500px;overflow:auto;\">\n",
        "<table border=\"1\" class=\"dataframe\">\n",
        "  <thead>\n",
        "    <tr style=\"text-align: right;\">\n",
        "      <th></th>\n",
        "      <th>average_stars</th>\n",
        "      <th>compliments</th>\n",
        "      <th>elite</th>\n",
        "      <th>fans</th>\n",
        "      <th>friends</th>\n",
        "      <th>name</th>\n",
        "      <th>review_count</th>\n",
        "      <th>type</th>\n",
        "      <th>user_id</th>\n",
        "      <th>votes</th>\n",
        "      <th>yelping_since</th>\n",
        "    </tr>\n",
        "  </thead>\n",
        "  <tbody>\n",
        "    <tr>\n",
        "      <th>0</th>\n",
        "      <td> 3.83</td>\n",
        "      <td>                                                {}</td>\n",
        "      <td> []</td>\n",
        "      <td> 0</td>\n",
        "      <td>                                                []</td>\n",
        "      <td>     Lee</td>\n",
        "      <td>  6</td>\n",
        "      <td> user</td>\n",
        "      <td> qtrmBGNqCvupHMHL_bKFgQ</td>\n",
        "      <td>   {u'funny': 1, u'useful': 5, u'cool': 0}</td>\n",
        "      <td> 2012-02</td>\n",
        "    </tr>\n",
        "    <tr>\n",
        "      <th>1</th>\n",
        "      <td> 5.00</td>\n",
        "      <td>                                                {}</td>\n",
        "      <td> []</td>\n",
        "      <td> 0</td>\n",
        "      <td> [8Y2EN4XNNhnwssuPb31sJg, A1jPleJ99kXZ3t9wQ3np-...</td>\n",
        "      <td> Matthew</td>\n",
        "      <td>  1</td>\n",
        "      <td> user</td>\n",
        "      <td> MWhR9LvOdRbqtu1I_DRFBg</td>\n",
        "      <td>   {u'funny': 0, u'useful': 0, u'cool': 0}</td>\n",
        "      <td> 2011-12</td>\n",
        "    </tr>\n",
        "    <tr>\n",
        "      <th>2</th>\n",
        "      <td> 5.00</td>\n",
        "      <td> {u'funny': 1, u'more': 2, u'writer': 1, u'phot...</td>\n",
        "      <td> []</td>\n",
        "      <td> 1</td>\n",
        "      <td> [8wK7_qZ18mokBxw5zdSo9w, AdxHwIZAOhY4zNXspg6IT...</td>\n",
        "      <td> Jasmine</td>\n",
        "      <td> 22</td>\n",
        "      <td> user</td>\n",
        "      <td> 0vscrHoajVRa1Yk19XWdwA</td>\n",
        "      <td> {u'funny': 5, u'useful': 20, u'cool': 11}</td>\n",
        "      <td> 2010-09</td>\n",
        "    </tr>\n",
        "  </tbody>\n",
        "</table>\n",
        "</div>"
       ],
       "metadata": {},
       "output_type": "pyout",
       "prompt_number": 144,
       "text": [
        "   average_stars                                        compliments elite  \\\n",
        "0           3.83                                                 {}    []   \n",
        "1           5.00                                                 {}    []   \n",
        "2           5.00  {u'funny': 1, u'more': 2, u'writer': 1, u'phot...    []   \n",
        "\n",
        "   fans                                            friends     name  \\\n",
        "0     0                                                 []      Lee   \n",
        "1     0  [8Y2EN4XNNhnwssuPb31sJg, A1jPleJ99kXZ3t9wQ3np-...  Matthew   \n",
        "2     1  [8wK7_qZ18mokBxw5zdSo9w, AdxHwIZAOhY4zNXspg6IT...  Jasmine   \n",
        "\n",
        "   review_count  type                 user_id  \\\n",
        "0             6  user  qtrmBGNqCvupHMHL_bKFgQ   \n",
        "1             1  user  MWhR9LvOdRbqtu1I_DRFBg   \n",
        "2            22  user  0vscrHoajVRa1Yk19XWdwA   \n",
        "\n",
        "                                       votes yelping_since  \n",
        "0    {u'funny': 1, u'useful': 5, u'cool': 0}       2012-02  \n",
        "1    {u'funny': 0, u'useful': 0, u'cool': 0}       2011-12  \n",
        "2  {u'funny': 5, u'useful': 20, u'cool': 11}       2010-09  "
       ]
      }
     ],
     "prompt_number": 144
    },
    {
     "cell_type": "code",
     "collapsed": false,
     "input": [
      "udf_50 = udf[udf.user_id.isin(userId_50)]"
     ],
     "language": "python",
     "metadata": {},
     "outputs": [],
     "prompt_number": 145
    },
    {
     "cell_type": "code",
     "collapsed": false,
     "input": [
      "udf_50.to_json('dataset/user-50.json')"
     ],
     "language": "python",
     "metadata": {},
     "outputs": [],
     "prompt_number": 146
    },
    {
     "cell_type": "code",
     "collapsed": false,
     "input": [],
     "language": "python",
     "metadata": {},
     "outputs": []
    }
   ],
   "metadata": {}
  }
 ]
}