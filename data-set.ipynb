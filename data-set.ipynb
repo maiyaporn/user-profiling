{
 "metadata": {
  "name": ""
 },
 "nbformat": 3,
 "nbformat_minor": 0,
 "worksheets": [
  {
   "cells": [
    {
     "cell_type": "code",
     "collapsed": false,
     "input": [
      "from pandas import *\n",
      "import json\n",
      "import numpy as np\n",
      "import matplotlib.pyplot as plt"
     ],
     "language": "python",
     "metadata": {},
     "outputs": [],
     "prompt_number": 1
    },
    {
     "cell_type": "code",
     "collapsed": false,
     "input": [
      "ls"
     ],
     "language": "python",
     "metadata": {},
     "outputs": [
      {
       "output_type": "stream",
       "stream": "stdout",
       "text": [
        "README.md             lda.ipynb             train.json\r\n",
        "data-set-Copy0.ipynb  pre-proceess.ipynb    train_bus.json\r\n",
        "data-set.ipynb        test.json             validation.json\r\n",
        "\u001b[34mdataset\u001b[m\u001b[m/              test_bus.json         validation_bus.json\r\n"
       ]
      }
     ],
     "prompt_number": 2
    },
    {
     "cell_type": "code",
     "collapsed": false,
     "input": [
      "file_dir = 'dataset/yelp_dataset_challenge_academic_dataset/'\n",
      "file_business = 'yelp_academic_dataset_business.json'\n",
      "file_review = 'yelp_academic_dataset_review.json'\n",
      "file_user = 'yelp_academic_dataset_user.json'\n",
      "file_tip = 'yelp_academic_dataset_tip.json'\n",
      "#file_checkin = 'yelp_academic_dataset_checkin.json'"
     ],
     "language": "python",
     "metadata": {},
     "outputs": [],
     "prompt_number": 3
    },
    {
     "cell_type": "heading",
     "level": 3,
     "metadata": {},
     "source": [
      "Business objects"
     ]
    },
    {
     "cell_type": "code",
     "collapsed": false,
     "input": [
      "business = [json.loads(line, encoding='utf-8') for line in open(file_dir+file_business)]\n",
      "bdf = DataFrame(business)"
     ],
     "language": "python",
     "metadata": {},
     "outputs": [],
     "prompt_number": 4
    },
    {
     "cell_type": "code",
     "collapsed": false,
     "input": [
      "bdf"
     ],
     "language": "python",
     "metadata": {},
     "outputs": [
      {
       "html": [
        "<pre>\n",
        "&lt;class 'pandas.core.frame.DataFrame'&gt;\n",
        "Int64Index: 42153 entries, 0 to 42152\n",
        "Data columns (total 15 columns):\n",
        "attributes       42153  non-null values\n",
        "business_id      42153  non-null values\n",
        "categories       42153  non-null values\n",
        "city             42153  non-null values\n",
        "full_address     42153  non-null values\n",
        "hours            42153  non-null values\n",
        "latitude         42153  non-null values\n",
        "longitude        42153  non-null values\n",
        "name             42153  non-null values\n",
        "neighborhoods    42153  non-null values\n",
        "open             42153  non-null values\n",
        "review_count     42153  non-null values\n",
        "stars            42153  non-null values\n",
        "state            42153  non-null values\n",
        "type             42153  non-null values\n",
        "dtypes: bool(1), float64(3), int64(1), object(10)\n",
        "</pre>"
       ],
       "metadata": {},
       "output_type": "pyout",
       "prompt_number": 5,
       "text": [
        "<class 'pandas.core.frame.DataFrame'>\n",
        "Int64Index: 42153 entries, 0 to 42152\n",
        "Data columns (total 15 columns):\n",
        "attributes       42153  non-null values\n",
        "business_id      42153  non-null values\n",
        "categories       42153  non-null values\n",
        "city             42153  non-null values\n",
        "full_address     42153  non-null values\n",
        "hours            42153  non-null values\n",
        "latitude         42153  non-null values\n",
        "longitude        42153  non-null values\n",
        "name             42153  non-null values\n",
        "neighborhoods    42153  non-null values\n",
        "open             42153  non-null values\n",
        "review_count     42153  non-null values\n",
        "stars            42153  non-null values\n",
        "state            42153  non-null values\n",
        "type             42153  non-null values\n",
        "dtypes: bool(1), float64(3), int64(1), object(10)"
       ]
      }
     ],
     "prompt_number": 5
    },
    {
     "cell_type": "code",
     "collapsed": false,
     "input": [
      "bdf.categories"
     ],
     "language": "python",
     "metadata": {},
     "outputs": [
      {
       "metadata": {},
       "output_type": "pyout",
       "prompt_number": 6,
       "text": [
        "0                           [Doctors, Health & Medical]\n",
        "1                                         [Restaurants]\n",
        "2                 [American (Traditional), Restaurants]\n",
        "3     [Food, Ice Cream & Frozen Yogurt, Fast Food, R...\n",
        "4                                [Chinese, Restaurants]\n",
        "5                     [Television Stations, Mass Media]\n",
        "6      [Home Services, Heating & Air Conditioning/HVAC]\n",
        "7             [Libraries, Public Services & Government]\n",
        "8                 [American (Traditional), Restaurants]\n",
        "9                                 [Veterinarians, Pets]\n",
        "10    [Bars, American (Traditional), Nightlife, Loun...\n",
        "11    [Hotels & Travel, Bed & Breakfast, Event Plann...\n",
        "12                               [Active Life, Bowling]\n",
        "13                                 [Pizza, Restaurants]\n",
        "14                               [Chinese, Restaurants]\n",
        "...\n",
        "42138    [Breakfast & Brunch, American (Traditional), R...\n",
        "42139                 [Food, Desserts, Cupcakes, Bakeries]\n",
        "42140                              [Filipino, Restaurants]\n",
        "42141                       [Active Life, Amusement Parks]\n",
        "42142                               [Burgers, Restaurants]\n",
        "42143                         [Chicken Wings, Restaurants]\n",
        "42144                        [American (New), Restaurants]\n",
        "42145    [Food, Juice Bars & Smoothies, American (New),...\n",
        "42146    [Bars, Turkish, Mediterranean, Nightlife, Loun...\n",
        "42147              [Bars, Hookah Bars, Nightlife, Lounges]\n",
        "42148        [Food, Desserts, Italian, Pizza, Restaurants]\n",
        "42149    [Active Life, Barre Classes, Pilates, Fitness ...\n",
        "42150                          [Yelp Events, Local Flavor]\n",
        "42151                [Kosher, Italian, Pizza, Restaurants]\n",
        "42152         [Food, Ethnic Food, Grocery, Specialty Food]\n",
        "Name: categories, Length: 42153, dtype: object"
       ]
      }
     ],
     "prompt_number": 6
    },
    {
     "cell_type": "heading",
     "level": 4,
     "metadata": {},
     "source": [
      "Extract only \"Restaurants\" businesses from dataset"
     ]
    },
    {
     "cell_type": "code",
     "collapsed": false,
     "input": [
      "resdf = bdf[bdf.categories.apply(lambda x: True if \"Restaurants\" in x else False)]"
     ],
     "language": "python",
     "metadata": {},
     "outputs": [],
     "prompt_number": 7
    },
    {
     "cell_type": "code",
     "collapsed": false,
     "input": [
      "resdf"
     ],
     "language": "python",
     "metadata": {},
     "outputs": [
      {
       "html": [
        "<pre>\n",
        "&lt;class 'pandas.core.frame.DataFrame'&gt;\n",
        "Int64Index: 14303 entries, 1 to 42151\n",
        "Data columns (total 15 columns):\n",
        "attributes       14303  non-null values\n",
        "business_id      14303  non-null values\n",
        "categories       14303  non-null values\n",
        "city             14303  non-null values\n",
        "full_address     14303  non-null values\n",
        "hours            14303  non-null values\n",
        "latitude         14303  non-null values\n",
        "longitude        14303  non-null values\n",
        "name             14303  non-null values\n",
        "neighborhoods    14303  non-null values\n",
        "open             14303  non-null values\n",
        "review_count     14303  non-null values\n",
        "stars            14303  non-null values\n",
        "state            14303  non-null values\n",
        "type             14303  non-null values\n",
        "dtypes: bool(1), float64(3), int64(1), object(10)\n",
        "</pre>"
       ],
       "metadata": {},
       "output_type": "pyout",
       "prompt_number": 8,
       "text": [
        "<class 'pandas.core.frame.DataFrame'>\n",
        "Int64Index: 14303 entries, 1 to 42151\n",
        "Data columns (total 15 columns):\n",
        "attributes       14303  non-null values\n",
        "business_id      14303  non-null values\n",
        "categories       14303  non-null values\n",
        "city             14303  non-null values\n",
        "full_address     14303  non-null values\n",
        "hours            14303  non-null values\n",
        "latitude         14303  non-null values\n",
        "longitude        14303  non-null values\n",
        "name             14303  non-null values\n",
        "neighborhoods    14303  non-null values\n",
        "open             14303  non-null values\n",
        "review_count     14303  non-null values\n",
        "stars            14303  non-null values\n",
        "state            14303  non-null values\n",
        "type             14303  non-null values\n",
        "dtypes: bool(1), float64(3), int64(1), object(10)"
       ]
      }
     ],
     "prompt_number": 8
    },
    {
     "cell_type": "code",
     "collapsed": false,
     "input": [
      "len(resdf)"
     ],
     "language": "python",
     "metadata": {},
     "outputs": [
      {
       "metadata": {},
       "output_type": "pyout",
       "prompt_number": 10,
       "text": [
        "14303"
       ]
      }
     ],
     "prompt_number": 10
    },
    {
     "cell_type": "code",
     "collapsed": false,
     "input": [
      "resdf.to_json('dataset/res.json')"
     ],
     "language": "python",
     "metadata": {},
     "outputs": [],
     "prompt_number": 12
    },
    {
     "cell_type": "heading",
     "level": 4,
     "metadata": {},
     "source": [
      "City/State"
     ]
    },
    {
     "cell_type": "code",
     "collapsed": false,
     "input": [
      "resdf.state.unique()"
     ],
     "language": "python",
     "metadata": {},
     "outputs": [
      {
       "metadata": {},
       "output_type": "pyout",
       "prompt_number": 13,
       "text": [
        "array([u'WI', u'AZ', u'NV', u'GA', u'ON', u'EDH', u'MLN', u'FIF', u'ELN',\n",
        "       u'XGL', u'KHL'], dtype=object)"
       ]
      }
     ],
     "prompt_number": 13
    },
    {
     "cell_type": "code",
     "collapsed": false,
     "input": [
      "grouped_state = resdf.groupby('state').size()\n",
      "grouped_state"
     ],
     "language": "python",
     "metadata": {},
     "outputs": [
      {
       "metadata": {},
       "output_type": "pyout",
       "prompt_number": 17,
       "text": [
        "state\n",
        "AZ       7439\n",
        "EDH      1016\n",
        "ELN         4\n",
        "FIF         1\n",
        "GA          1\n",
        "KHL         1\n",
        "MLN        50\n",
        "NV       4655\n",
        "ON        219\n",
        "WI        916\n",
        "XGL         1\n",
        "dtype: int64"
       ]
      }
     ],
     "prompt_number": 17
    },
    {
     "cell_type": "code",
     "collapsed": false,
     "input": [
      "grouped_state.plot(kind='bar')"
     ],
     "language": "python",
     "metadata": {},
     "outputs": [
      {
       "metadata": {},
       "output_type": "pyout",
       "prompt_number": 18,
       "text": [
        "<matplotlib.axes.AxesSubplot at 0x11d958d90>"
       ]
      },
      {
       "metadata": {},
       "output_type": "display_data",
       "png": "[encoded data removed]",
       "text": [
        "<matplotlib.figure.Figure at 0x11d899450>"
       ]
      }
     ],
     "prompt_number": 18
    },
    {
     "cell_type": "code",
     "collapsed": false,
     "input": [
      "grouped_city = resdf.groupby(['state','city']).size()\n",
      "grouped_city"
     ],
     "language": "python",
     "metadata": {},
     "outputs": [
      {
       "metadata": {},
       "output_type": "pyout",
       "prompt_number": 19,
       "text": [
        "state  city                \n",
        "AZ     Ahwatukee                 3\n",
        "       Anthem                   24\n",
        "       Apache Junction          44\n",
        "       Avondale                100\n",
        "       Black Canyon City         1\n",
        "       Buckeye                  42\n",
        "       Carefree                 16\n",
        "       Casa Grande              61\n",
        "       Cave Creek               63\n",
        "       Central City Village      2\n",
        "       Chandler                548\n",
        "       Coolidge                  6\n",
        "       El Mirage                14\n",
        "       Florence                  7\n",
        "       Fort McDowell             3\n",
        "...\n",
        "WI     De Forest        5\n",
        "       DeForest         3\n",
        "       Fitchburg       38\n",
        "       Madison        679\n",
        "       Mc Farland       5\n",
        "       McFarland        3\n",
        "       Middleton       66\n",
        "       Monona          32\n",
        "       Stoughton        2\n",
        "       Sun Prairie     39\n",
        "       Trempealeau      1\n",
        "       Verona          19\n",
        "       Waunakee        14\n",
        "       Windsor          3\n",
        "XGL    Edinburgh        1\n",
        "Length: 112, dtype: int64"
       ]
      }
     ],
     "prompt_number": 19
    },
    {
     "cell_type": "code",
     "collapsed": false,
     "input": [
      "grouped_city.to_csv('dataset/state-city-res-size.csv')"
     ],
     "language": "python",
     "metadata": {},
     "outputs": [],
     "prompt_number": 20
    },
    {
     "cell_type": "heading",
     "level": 4,
     "metadata": {},
     "source": [
      "Select only restaurants in AZ (Limit data size for shorter processing time)"
     ]
    },
    {
     "cell_type": "code",
     "collapsed": false,
     "input": [
      "az_resdf = resdf[resdf.state == 'AZ']"
     ],
     "language": "python",
     "metadata": {},
     "outputs": [],
     "prompt_number": 43
    },
    {
     "cell_type": "code",
     "collapsed": false,
     "input": [
      "az_resdf"
     ],
     "language": "python",
     "metadata": {},
     "outputs": [
      {
       "html": [
        "<pre>\n",
        "&lt;class 'pandas.core.frame.DataFrame'&gt;\n",
        "Int64Index: 7439 entries, 330 to 42151\n",
        "Data columns (total 15 columns):\n",
        "attributes       7439  non-null values\n",
        "business_id      7439  non-null values\n",
        "categories       7439  non-null values\n",
        "city             7439  non-null values\n",
        "full_address     7439  non-null values\n",
        "hours            7439  non-null values\n",
        "latitude         7439  non-null values\n",
        "longitude        7439  non-null values\n",
        "name             7439  non-null values\n",
        "neighborhoods    7439  non-null values\n",
        "open             7439  non-null values\n",
        "review_count     7439  non-null values\n",
        "stars            7439  non-null values\n",
        "state            7439  non-null values\n",
        "type             7439  non-null values\n",
        "dtypes: bool(1), float64(3), int64(1), object(10)\n",
        "</pre>"
       ],
       "metadata": {},
       "output_type": "pyout",
       "prompt_number": 44,
       "text": [
        "<class 'pandas.core.frame.DataFrame'>\n",
        "Int64Index: 7439 entries, 330 to 42151\n",
        "Data columns (total 15 columns):\n",
        "attributes       7439  non-null values\n",
        "business_id      7439  non-null values\n",
        "categories       7439  non-null values\n",
        "city             7439  non-null values\n",
        "full_address     7439  non-null values\n",
        "hours            7439  non-null values\n",
        "latitude         7439  non-null values\n",
        "longitude        7439  non-null values\n",
        "name             7439  non-null values\n",
        "neighborhoods    7439  non-null values\n",
        "open             7439  non-null values\n",
        "review_count     7439  non-null values\n",
        "stars            7439  non-null values\n",
        "state            7439  non-null values\n",
        "type             7439  non-null values\n",
        "dtypes: bool(1), float64(3), int64(1), object(10)"
       ]
      }
     ],
     "prompt_number": 44
    },
    {
     "cell_type": "code",
     "collapsed": false,
     "input": [
      "az_resdf.to_json('dataset/az-res.json')"
     ],
     "language": "python",
     "metadata": {},
     "outputs": [],
     "prompt_number": 45
    },
    {
     "cell_type": "heading",
     "level": 3,
     "metadata": {},
     "source": [
      "Review objects"
     ]
    },
    {
     "cell_type": "code",
     "collapsed": false,
     "input": [
      "review = [json.loads(line, encoding='utf-8') for line in open(file_dir+file_review)]\n",
      "rdf = DataFrame(review)"
     ],
     "language": "python",
     "metadata": {},
     "outputs": [],
     "prompt_number": 29
    },
    {
     "cell_type": "code",
     "collapsed": false,
     "input": [
      "rdf"
     ],
     "language": "python",
     "metadata": {},
     "outputs": [
      {
       "html": [
        "<pre>\n",
        "&lt;class 'pandas.core.frame.DataFrame'&gt;\n",
        "Int64Index: 1125458 entries, 0 to 1125457\n",
        "Data columns (total 8 columns):\n",
        "business_id    1125458  non-null values\n",
        "date           1125458  non-null values\n",
        "review_id      1125458  non-null values\n",
        "stars          1125458  non-null values\n",
        "text           1125458  non-null values\n",
        "type           1125458  non-null values\n",
        "user_id        1125458  non-null values\n",
        "votes          1125458  non-null values\n",
        "dtypes: int64(1), object(7)\n",
        "</pre>"
       ],
       "metadata": {},
       "output_type": "pyout",
       "prompt_number": 46,
       "text": [
        "<class 'pandas.core.frame.DataFrame'>\n",
        "Int64Index: 1125458 entries, 0 to 1125457\n",
        "Data columns (total 8 columns):\n",
        "business_id    1125458  non-null values\n",
        "date           1125458  non-null values\n",
        "review_id      1125458  non-null values\n",
        "stars          1125458  non-null values\n",
        "text           1125458  non-null values\n",
        "type           1125458  non-null values\n",
        "user_id        1125458  non-null values\n",
        "votes          1125458  non-null values\n",
        "dtypes: int64(1), object(7)"
       ]
      }
     ],
     "prompt_number": 46
    },
    {
     "cell_type": "heading",
     "level": 4,
     "metadata": {},
     "source": [
      "Extract only restaurant's review in AZ"
     ]
    },
    {
     "cell_type": "code",
     "collapsed": false,
     "input": [
      "resid_list = az_resdf.business_id"
     ],
     "language": "python",
     "metadata": {},
     "outputs": [],
     "prompt_number": 47
    },
    {
     "cell_type": "code",
     "collapsed": false,
     "input": [
      "resRevDf = rdf[rdf.business_id.isin(resid_list)]"
     ],
     "language": "python",
     "metadata": {},
     "outputs": [],
     "prompt_number": 48
    },
    {
     "cell_type": "code",
     "collapsed": false,
     "input": [
      "resRevDf"
     ],
     "language": "python",
     "metadata": {},
     "outputs": [
      {
       "html": [
        "<pre>\n",
        "&lt;class 'pandas.core.frame.DataFrame'&gt;\n",
        "Int64Index: 324468 entries, 3352 to 1125452\n",
        "Data columns (total 8 columns):\n",
        "business_id    324468  non-null values\n",
        "date           324468  non-null values\n",
        "review_id      324468  non-null values\n",
        "stars          324468  non-null values\n",
        "text           324468  non-null values\n",
        "type           324468  non-null values\n",
        "user_id        324468  non-null values\n",
        "votes          324468  non-null values\n",
        "dtypes: int64(1), object(7)\n",
        "</pre>"
       ],
       "metadata": {},
       "output_type": "pyout",
       "prompt_number": 50,
       "text": [
        "<class 'pandas.core.frame.DataFrame'>\n",
        "Int64Index: 324468 entries, 3352 to 1125452\n",
        "Data columns (total 8 columns):\n",
        "business_id    324468  non-null values\n",
        "date           324468  non-null values\n",
        "review_id      324468  non-null values\n",
        "stars          324468  non-null values\n",
        "text           324468  non-null values\n",
        "type           324468  non-null values\n",
        "user_id        324468  non-null values\n",
        "votes          324468  non-null values\n",
        "dtypes: int64(1), object(7)"
       ]
      }
     ],
     "prompt_number": 50
    },
    {
     "cell_type": "code",
     "collapsed": false,
     "input": [
      "resRevDf.to_json('dataset/az-review.json')"
     ],
     "language": "python",
     "metadata": {},
     "outputs": [],
     "prompt_number": 51
    },
    {
     "cell_type": "heading",
     "level": 4,
     "metadata": {},
     "source": [
      "Select user's with more than 10 reviews"
     ]
    },
    {
     "cell_type": "code",
     "collapsed": false,
     "input": [
      "grouped_user = resRevDf.groupby('user_id').size()\n",
      "grouped_user"
     ],
     "language": "python",
     "metadata": {},
     "outputs": [
      {
       "metadata": {},
       "output_type": "pyout",
       "prompt_number": 52,
       "text": [
        "user_id\n",
        "--65q1FpAL_UQtVZ2PTGew    135\n",
        "--82_AVgRBsLw6Dhy8sEnA      1\n",
        "--AqBuo717RyacADExYbSA      3\n",
        "--BOhgWmYLIAnbEQhpu_mw      1\n",
        "--Gjrja8RffTz9nKHXsXpA      2\n",
        "--M-cIkGnH1KhnLaCOmoPQ      1\n",
        "--MJXewYKgIGpKvtfwBkfg      1\n",
        "--RD0Z_F0tV4L-AzhOzXYA      1\n",
        "--VfIRhhjw3Egzy26AXiZg      1\n",
        "--VxRvXk3b8FwsSbC2Zpxw     18\n",
        "--WY3SeU0lZiZfivygas7Q      1\n",
        "--ZBhtxi8VwI-x9GzCIyxw      3\n",
        "--bmQJBvKmn55eEtMJepHg      1\n",
        "--dzI9JuRov0LC3NTjYYbw      1\n",
        "--gSegMbchIzRdcOkHMewQ      1\n",
        "...\n",
        "zzEvmdVGXvcVGpgWNRlXtg     1\n",
        "zzJYSV5tgvgKuz7RxovBCw     2\n",
        "zzQ2b-9Xu7-Tl8PNGZuspg     2\n",
        "zzVouG0HOgXCGUAWGpkYpg     1\n",
        "zzVpQ6IBxeW3ZDdg0Ep_wg     8\n",
        "zzWUzYAj8SXwohidVLax9Q     1\n",
        "zzXiX3wNgKAINDaGiSXTuw     1\n",
        "zzY5rlx-0YRgYMyO7LM6Fw     2\n",
        "zzclq4oNfkp4S00F5gK3kg     2\n",
        "zzhdnNeg65wupOXqYtGyJw     1\n",
        "zzjDTs2svkHPHlpzEO3lfg     2\n",
        "zzmRKNph-pBHDL2qwGv9Fw    32\n",
        "zzr0gcwOWFGBBqQ11_xPOQ     1\n",
        "zztT9KKp0rmJRMeMl4CqzQ     4\n",
        "zzvrDmRAYdvIVRGszSFPGQ     1\n",
        "Length: 75857, dtype: int64"
       ]
      }
     ],
     "prompt_number": 52
    },
    {
     "cell_type": "code",
     "collapsed": false,
     "input": [
      "len(grouped_user)"
     ],
     "language": "python",
     "metadata": {},
     "outputs": [
      {
       "metadata": {},
       "output_type": "pyout",
       "prompt_number": 60,
       "text": [
        "75857"
       ]
      }
     ],
     "prompt_number": 60
    },
    {
     "cell_type": "code",
     "collapsed": false,
     "input": [
      "plt.hist(grouped_user.values, bins=10)"
     ],
     "language": "python",
     "metadata": {},
     "outputs": [
      {
       "metadata": {},
       "output_type": "pyout",
       "prompt_number": 56,
       "text": [
        "(array([  7.56470000e+04,   1.62000000e+02,   3.10000000e+01,\n",
        "         8.00000000e+00,   7.00000000e+00,   1.00000000e+00,\n",
        "         0.00000000e+00,   0.00000000e+00,   0.00000000e+00,\n",
        "         1.00000000e+00]),\n",
        " array([   1. ,  100.6,  200.2,  299.8,  399.4,  499. ,  598.6,  698.2,\n",
        "        797.8,  897.4,  997. ]),\n",
        " <a list of 10 Patch objects>)"
       ]
      },
      {
       "metadata": {},
       "output_type": "display_data",
       "png": "[encoded data removed]",
       "text": [
        "<matplotlib.figure.Figure at 0x25ef2b750>"
       ]
      }
     ],
     "prompt_number": 56
    },
    {
     "cell_type": "code",
     "collapsed": false,
     "input": [
      "plt.hist(grouped_user.values, bins=10, range=[1,100])"
     ],
     "language": "python",
     "metadata": {},
     "outputs": [
      {
       "metadata": {},
       "output_type": "pyout",
       "prompt_number": 58,
       "text": [
        "(array([  7.03720000e+04,   3.09700000e+03,   9.74000000e+02,\n",
        "         4.26000000e+02,   2.35000000e+02,   1.74000000e+02,\n",
        "         1.25000000e+02,   9.90000000e+01,   9.10000000e+01,\n",
        "         5.40000000e+01]),\n",
        " array([   1. ,   10.9,   20.8,   30.7,   40.6,   50.5,   60.4,   70.3,\n",
        "         80.2,   90.1,  100. ]),\n",
        " <a list of 10 Patch objects>)"
       ]
      },
      {
       "metadata": {},
       "output_type": "display_data",
       "png": "[encoded data removed]",
       "text": [
        "<matplotlib.figure.Figure at 0x25ef91750>"
       ]
      }
     ],
     "prompt_number": 58
    },
    {
     "cell_type": "code",
     "collapsed": false,
     "input": [
      "len(grouped_user[grouped_user<10])"
     ],
     "language": "python",
     "metadata": {},
     "outputs": [
      {
       "metadata": {},
       "output_type": "pyout",
       "prompt_number": 59,
       "text": [
        "69752"
       ]
      }
     ],
     "prompt_number": 59
    },
    {
     "cell_type": "code",
     "collapsed": false,
     "input": [
      "grouped_user_10 = grouped_user[grouped_user>=10]\n",
      "grouped_user_10.sort(ascending=False)"
     ],
     "language": "python",
     "metadata": {},
     "outputs": [],
     "prompt_number": 61
    },
    {
     "cell_type": "code",
     "collapsed": false,
     "input": [
      "grouped_user_10"
     ],
     "language": "python",
     "metadata": {},
     "outputs": [
      {
       "metadata": {},
       "output_type": "pyout",
       "prompt_number": 62,
       "text": [
        "user_id\n",
        "ikm0UCahtK34LbLCEw4YTw    997\n",
        "3gIfcQq5KxAegwCPXc83cQ    565\n",
        "DrWLhrK8WMZf7Jb-Oqc7ww    485\n",
        "90a6z--_CUrl84aCzZyPsg    480\n",
        "0bNXP9quoJEgyVZu9ipGgQ    462\n",
        "C6IOtaaYdLIT5fWd7ZYIuA    449\n",
        "fczQCSmaWF78toLEmb0Zsw    427\n",
        "uZbTb-u-GVjTa2gtQfry5g    418\n",
        "joIzw_aUiNvBTuGoytrH7g    406\n",
        "_PzSNcfrCjeBxSLXRoMmgQ    376\n",
        "4ozupHULqGyO42s3zNUzOQ    352\n",
        "pEVf8GRshP9HUkSpizc9LA    346\n",
        "kGgAARL2UmvCcTRfiscjug    341\n",
        "p7dvahRPZIWL7T6pFA_0dg    338\n",
        "lPaYMDmJbAnv_3pmZH_inw    328\n",
        "...\n",
        "TXJ8YldcRE_8RnjnwVUhXA    10\n",
        "4xFMuPupUIZdKHsQW-USzA    10\n",
        "dOhJ6mf09CTJciqW0lbKug    10\n",
        "Bz6FtkgGDJkWAPV1B4OR8w    10\n",
        "dRlFpr-r1ebF1FGp4jGriw    10\n",
        "dT2yS4VH4OEAZ5WqXDzXtw    10\n",
        "oRif0IN7pqqWluprQgyWjw    10\n",
        "oQZeITmS8rppOi9YukhbaQ    10\n",
        "rSpGn6uGGWPVrbPs3zcTEw    10\n",
        "d_1zRVInZHMZJ0nRL0CUag    10\n",
        "dcXW8yu6DqGbz7OltNzpQA    10\n",
        "wJeDW_1SMkipvPGP3Tv-7A    10\n",
        "4nv-S2c76e-IvterupcA2A    10\n",
        "C7yR7r1oHDYHG_JKlTeK3Q    10\n",
        "qDKZBKjosq_EgxtSzfYrlg    10\n",
        "Length: 6105, dtype: int64"
       ]
      }
     ],
     "prompt_number": 62
    },
    {
     "cell_type": "code",
     "collapsed": false,
     "input": [
      "len(grouped_user_10)"
     ],
     "language": "python",
     "metadata": {},
     "outputs": [
      {
       "metadata": {},
       "output_type": "pyout",
       "prompt_number": 63,
       "text": [
        "6105"
       ]
      }
     ],
     "prompt_number": 63
    },
    {
     "cell_type": "code",
     "collapsed": false,
     "input": [
      "plt.hist(grouped_user_10.values, bins=10, range=[10,100])"
     ],
     "language": "python",
     "metadata": {},
     "outputs": [
      {
       "metadata": {},
       "output_type": "pyout",
       "prompt_number": 64,
       "text": [
        "(array([ 3389.,  1085.,   517.,   261.,   186.,   140.,    91.,    92.,\n",
        "          80.,    54.]),\n",
        " array([  10.,   19.,   28.,   37.,   46.,   55.,   64.,   73.,   82.,\n",
        "         91.,  100.]),\n",
        " <a list of 10 Patch objects>)"
       ]
      },
      {
       "metadata": {},
       "output_type": "display_data",
       "png": "[encoded data removed]",
       "text": [
        "<matplotlib.figure.Figure at 0x25ef6f4d0>"
       ]
      }
     ],
     "prompt_number": 64
    },
    {
     "cell_type": "code",
     "collapsed": false,
     "input": [
      "plt.hist(grouped_user_10.values, bins=10, range=[100,600])"
     ],
     "language": "python",
     "metadata": {},
     "outputs": [
      {
       "metadata": {},
       "output_type": "pyout",
       "prompt_number": 130,
       "text": [
        "(array([ 211.,   75.,   27.,   26.,    7.,    7.,    6.,    6.,    0.,    2.]),\n",
        " array([ 100.,  150.,  200.,  250.,  300.,  350.,  400.,  450.,  500.,\n",
        "        550.,  600.]),\n",
        " <a list of 10 Patch objects>)"
       ]
      },
      {
       "metadata": {},
       "output_type": "display_data",
       "png": "[encoded data removed]",
       "text": [
        "<matplotlib.figure.Figure at 0x405294810>"
       ]
      }
     ],
     "prompt_number": 130
    },
    {
     "cell_type": "code",
     "collapsed": false,
     "input": [
      "userId_10 = grouped_user_10.index.values"
     ],
     "language": "python",
     "metadata": {},
     "outputs": [],
     "prompt_number": 65
    },
    {
     "cell_type": "code",
     "collapsed": false,
     "input": [
      "resRevDf_10 = resRevDf[resRevDf.user_id.isin(userId_10)]"
     ],
     "language": "python",
     "metadata": {},
     "outputs": [],
     "prompt_number": 66
    },
    {
     "cell_type": "code",
     "collapsed": false,
     "input": [
      "resRevDf_10.to_json('dataset/review-10.json')"
     ],
     "language": "python",
     "metadata": {},
     "outputs": [],
     "prompt_number": 67
    },
    {
     "cell_type": "heading",
     "level": 4,
     "metadata": {},
     "source": [
      "Extract review for user with >= 20"
     ]
    },
    {
     "cell_type": "code",
     "collapsed": false,
     "input": [
      "grouped_user_20 = grouped_user[grouped_user >= 20]"
     ],
     "language": "python",
     "metadata": {},
     "outputs": [],
     "prompt_number": 68
    },
    {
     "cell_type": "code",
     "collapsed": false,
     "input": [
      "len(grouped_user_20)"
     ],
     "language": "python",
     "metadata": {},
     "outputs": [
      {
       "metadata": {},
       "output_type": "pyout",
       "prompt_number": 69,
       "text": [
        "2551"
       ]
      }
     ],
     "prompt_number": 69
    },
    {
     "cell_type": "code",
     "collapsed": false,
     "input": [
      "userId_20 = grouped_user_20.index.values\n",
      "resRevDf_20 = resRevDf[resRevDf.user_id.isin(userId_20)]\n",
      "resRevDf_20.to_json('dataset/review-20.json')"
     ],
     "language": "python",
     "metadata": {},
     "outputs": [],
     "prompt_number": 70
    },
    {
     "cell_type": "code",
     "collapsed": false,
     "input": [
      "grouped_user_50 = grouped_user[grouped_user >= 50]\n",
      "print len(grouped_user_50)\n",
      "userId_50 = grouped_user_50.index.values\n",
      "resRevDf_50 = resRevDf[resRevDf.user_id.isin(userId_50)]\n",
      "resRevDf_50.to_json('dataset/review-50.json')"
     ],
     "language": "python",
     "metadata": {},
     "outputs": [
      {
       "output_type": "stream",
       "stream": "stdout",
       "text": [
        "769\n"
       ]
      }
     ],
     "prompt_number": 71
    },
    {
     "cell_type": "heading",
     "level": 3,
     "metadata": {},
     "source": [
      "User objects"
     ]
    },
    {
     "cell_type": "code",
     "collapsed": false,
     "input": [
      "user = [json.loads(line, encoding='utf-8') for line in open(file_dir+file_user)]\n",
      "udf = DataFrame(user)"
     ],
     "language": "python",
     "metadata": {},
     "outputs": [],
     "prompt_number": 72
    },
    {
     "cell_type": "code",
     "collapsed": false,
     "input": [
      "udf"
     ],
     "language": "python",
     "metadata": {},
     "outputs": [
      {
       "html": [
        "<pre>\n",
        "&lt;class 'pandas.core.frame.DataFrame'&gt;\n",
        "Int64Index: 252898 entries, 0 to 252897\n",
        "Data columns (total 11 columns):\n",
        "average_stars    252898  non-null values\n",
        "compliments      252898  non-null values\n",
        "elite            252898  non-null values\n",
        "fans             252898  non-null values\n",
        "friends          252898  non-null values\n",
        "name             252898  non-null values\n",
        "review_count     252898  non-null values\n",
        "type             252898  non-null values\n",
        "user_id          252898  non-null values\n",
        "votes            252898  non-null values\n",
        "yelping_since    252898  non-null values\n",
        "dtypes: float64(1), int64(2), object(8)\n",
        "</pre>"
       ],
       "metadata": {},
       "output_type": "pyout",
       "prompt_number": 73,
       "text": [
        "<class 'pandas.core.frame.DataFrame'>\n",
        "Int64Index: 252898 entries, 0 to 252897\n",
        "Data columns (total 11 columns):\n",
        "average_stars    252898  non-null values\n",
        "compliments      252898  non-null values\n",
        "elite            252898  non-null values\n",
        "fans             252898  non-null values\n",
        "friends          252898  non-null values\n",
        "name             252898  non-null values\n",
        "review_count     252898  non-null values\n",
        "type             252898  non-null values\n",
        "user_id          252898  non-null values\n",
        "votes            252898  non-null values\n",
        "yelping_since    252898  non-null values\n",
        "dtypes: float64(1), int64(2), object(8)"
       ]
      }
     ],
     "prompt_number": 73
    },
    {
     "cell_type": "code",
     "collapsed": false,
     "input": [
      "udf[:3]"
     ],
     "language": "python",
     "metadata": {},
     "outputs": [
      {
       "html": [
        "<div style=\"max-height:1000px;max-width:1500px;overflow:auto;\">\n",
        "<table border=\"1\" class=\"dataframe\">\n",
        "  <thead>\n",
        "    <tr style=\"text-align: right;\">\n",
        "      <th></th>\n",
        "      <th>average_stars</th>\n",
        "      <th>compliments</th>\n",
        "      <th>elite</th>\n",
        "      <th>fans</th>\n",
        "      <th>friends</th>\n",
        "      <th>name</th>\n",
        "      <th>review_count</th>\n",
        "      <th>type</th>\n",
        "      <th>user_id</th>\n",
        "      <th>votes</th>\n",
        "      <th>yelping_since</th>\n",
        "    </tr>\n",
        "  </thead>\n",
        "  <tbody>\n",
        "    <tr>\n",
        "      <th>0</th>\n",
        "      <td> 3.83</td>\n",
        "      <td>                                                {}</td>\n",
        "      <td> []</td>\n",
        "      <td> 0</td>\n",
        "      <td>                                                []</td>\n",
        "      <td>     Lee</td>\n",
        "      <td>  6</td>\n",
        "      <td> user</td>\n",
        "      <td> qtrmBGNqCvupHMHL_bKFgQ</td>\n",
        "      <td>   {u'funny': 1, u'useful': 5, u'cool': 0}</td>\n",
        "      <td> 2012-02</td>\n",
        "    </tr>\n",
        "    <tr>\n",
        "      <th>1</th>\n",
        "      <td> 5.00</td>\n",
        "      <td>                                                {}</td>\n",
        "      <td> []</td>\n",
        "      <td> 0</td>\n",
        "      <td> [8Y2EN4XNNhnwssuPb31sJg, A1jPleJ99kXZ3t9wQ3np-...</td>\n",
        "      <td> Matthew</td>\n",
        "      <td>  1</td>\n",
        "      <td> user</td>\n",
        "      <td> MWhR9LvOdRbqtu1I_DRFBg</td>\n",
        "      <td>   {u'funny': 0, u'useful': 0, u'cool': 0}</td>\n",
        "      <td> 2011-12</td>\n",
        "    </tr>\n",
        "    <tr>\n",
        "      <th>2</th>\n",
        "      <td> 5.00</td>\n",
        "      <td> {u'funny': 1, u'more': 2, u'writer': 1, u'phot...</td>\n",
        "      <td> []</td>\n",
        "      <td> 1</td>\n",
        "      <td> [8wK7_qZ18mokBxw5zdSo9w, AdxHwIZAOhY4zNXspg6IT...</td>\n",
        "      <td> Jasmine</td>\n",
        "      <td> 22</td>\n",
        "      <td> user</td>\n",
        "      <td> 0vscrHoajVRa1Yk19XWdwA</td>\n",
        "      <td> {u'funny': 5, u'useful': 20, u'cool': 11}</td>\n",
        "      <td> 2010-09</td>\n",
        "    </tr>\n",
        "  </tbody>\n",
        "</table>\n",
        "</div>"
       ],
       "metadata": {},
       "output_type": "pyout",
       "prompt_number": 74,
       "text": [
        "   average_stars                                        compliments elite  \\\n",
        "0           3.83                                                 {}    []   \n",
        "1           5.00                                                 {}    []   \n",
        "2           5.00  {u'funny': 1, u'more': 2, u'writer': 1, u'phot...    []   \n",
        "\n",
        "   fans                                            friends     name  \\\n",
        "0     0                                                 []      Lee   \n",
        "1     0  [8Y2EN4XNNhnwssuPb31sJg, A1jPleJ99kXZ3t9wQ3np-...  Matthew   \n",
        "2     1  [8wK7_qZ18mokBxw5zdSo9w, AdxHwIZAOhY4zNXspg6IT...  Jasmine   \n",
        "\n",
        "   review_count  type                 user_id  \\\n",
        "0             6  user  qtrmBGNqCvupHMHL_bKFgQ   \n",
        "1             1  user  MWhR9LvOdRbqtu1I_DRFBg   \n",
        "2            22  user  0vscrHoajVRa1Yk19XWdwA   \n",
        "\n",
        "                                       votes yelping_since  \n",
        "0    {u'funny': 1, u'useful': 5, u'cool': 0}       2012-02  \n",
        "1    {u'funny': 0, u'useful': 0, u'cool': 0}       2011-12  \n",
        "2  {u'funny': 5, u'useful': 20, u'cool': 11}       2010-09  "
       ]
      }
     ],
     "prompt_number": 74
    },
    {
     "cell_type": "code",
     "collapsed": false,
     "input": [
      "udf_50 = udf[udf.user_id.isin(userId_50)]"
     ],
     "language": "python",
     "metadata": {},
     "outputs": [],
     "prompt_number": 75
    },
    {
     "cell_type": "code",
     "collapsed": false,
     "input": [
      "udf_50.to_json('dataset/user-50.json')"
     ],
     "language": "python",
     "metadata": {},
     "outputs": [],
     "prompt_number": 76
    }
   ],
   "metadata": {}
  }
 ]
}