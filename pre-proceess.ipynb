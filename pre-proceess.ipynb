{
 "metadata": {
  "name": ""
 },
 "nbformat": 3,
 "nbformat_minor": 0,
 "worksheets": [
  {
   "cells": [
    {
     "cell_type": "heading",
     "level": 4,
     "metadata": {},
     "source": [
      "Pre-process before training with LDA\n",
      "Stop words removal, stemming, remove most/least frequent words"
     ]
    },
    {
     "cell_type": "code",
     "collapsed": false,
     "input": [
      "from pandas import *\n",
      "import json\n",
      "import numpy as np\n",
      "import matplotlib.pyplot as plt"
     ],
     "language": "python",
     "metadata": {},
     "outputs": [],
     "prompt_number": 1
    },
    {
     "cell_type": "code",
     "collapsed": false,
     "input": [
      "ls"
     ],
     "language": "python",
     "metadata": {},
     "outputs": [
      {
       "output_type": "stream",
       "stream": "stdout",
       "text": [
        "Correlation.ipynb   doc-idx-map         my-corpus.py        \u001b[34mtmp\u001b[m\u001b[m/\r\n",
        "README.md           \u001b[34mdocuments\u001b[m\u001b[m/          perplexity.csv      \u001b[34mtrain\u001b[m\u001b[m/\r\n",
        "data-set.ipynb      evaluation.py       pre-proceess.ipynb  user-profiling.py\r\n",
        "\u001b[34mdataset\u001b[m\u001b[m/            \u001b[34mlabel\u001b[m\u001b[m/              text-process.py     \u001b[34mval\u001b[m\u001b[m/\r\n"
       ]
      }
     ],
     "prompt_number": 2
    },
    {
     "cell_type": "code",
     "collapsed": false,
     "input": [
      "review_50 = 'dataset/review-50.json'\n",
      "res_az = 'dataset/az-res.json'"
     ],
     "language": "python",
     "metadata": {},
     "outputs": [],
     "prompt_number": 3
    },
    {
     "cell_type": "code",
     "collapsed": false,
     "input": [
      "revDf = read_json(review_50)\n",
      "resDf = read_json(res_az)"
     ],
     "language": "python",
     "metadata": {},
     "outputs": [],
     "prompt_number": 4
    },
    {
     "cell_type": "code",
     "collapsed": false,
     "input": [
      "revDf"
     ],
     "language": "python",
     "metadata": {},
     "outputs": [
      {
       "html": [
        "<pre>\n",
        "&lt;class 'pandas.core.frame.DataFrame'&gt;\n",
        "Int64Index: 74832 entries, 1000069 to 999893\n",
        "Data columns (total 8 columns):\n",
        "business_id    74832  non-null values\n",
        "date           74832  non-null values\n",
        "review_id      74832  non-null values\n",
        "stars          74832  non-null values\n",
        "text           74832  non-null values\n",
        "type           74832  non-null values\n",
        "user_id        74832  non-null values\n",
        "votes          74832  non-null values\n",
        "dtypes: datetime64[ns](1), int64(1), object(6)\n",
        "</pre>"
       ],
       "metadata": {},
       "output_type": "pyout",
       "prompt_number": 5,
       "text": [
        "<class 'pandas.core.frame.DataFrame'>\n",
        "Int64Index: 74832 entries, 1000069 to 999893\n",
        "Data columns (total 8 columns):\n",
        "business_id    74832  non-null values\n",
        "date           74832  non-null values\n",
        "review_id      74832  non-null values\n",
        "stars          74832  non-null values\n",
        "text           74832  non-null values\n",
        "type           74832  non-null values\n",
        "user_id        74832  non-null values\n",
        "votes          74832  non-null values\n",
        "dtypes: datetime64[ns](1), int64(1), object(6)"
       ]
      }
     ],
     "prompt_number": 5
    },
    {
     "cell_type": "code",
     "collapsed": false,
     "input": [
      "print len(revDf.groupby('business_id')), len(revDf.groupby('user_id'))"
     ],
     "language": "python",
     "metadata": {},
     "outputs": [
      {
       "output_type": "stream",
       "stream": "stdout",
       "text": [
        "6607 769\n"
       ]
      }
     ],
     "prompt_number": 6
    },
    {
     "cell_type": "heading",
     "level": 4,
     "metadata": {},
     "source": [
      "Join with restaurant dataframe to get restaurant avg. rating"
     ]
    },
    {
     "cell_type": "code",
     "collapsed": false,
     "input": [
      "df = revDf.merge(resDf[['business_id', 'stars']], on='business_id', how='inner', suffixes=('_rev', '_res'))"
     ],
     "language": "python",
     "metadata": {},
     "outputs": [],
     "prompt_number": 7
    },
    {
     "cell_type": "code",
     "collapsed": false,
     "input": [
      "df"
     ],
     "language": "python",
     "metadata": {},
     "outputs": [
      {
       "html": [
        "<pre>\n",
        "&lt;class 'pandas.core.frame.DataFrame'&gt;\n",
        "Int64Index: 74832 entries, 0 to 74831\n",
        "Data columns (total 9 columns):\n",
        "business_id    74832  non-null values\n",
        "date           74832  non-null values\n",
        "review_id      74832  non-null values\n",
        "stars_rev      74832  non-null values\n",
        "text           74832  non-null values\n",
        "type           74832  non-null values\n",
        "user_id        74832  non-null values\n",
        "votes          74832  non-null values\n",
        "stars_res      74832  non-null values\n",
        "dtypes: datetime64[ns](1), float64(1), int64(1), object(6)\n",
        "</pre>"
       ],
       "metadata": {},
       "output_type": "pyout",
       "prompt_number": 8,
       "text": [
        "<class 'pandas.core.frame.DataFrame'>\n",
        "Int64Index: 74832 entries, 0 to 74831\n",
        "Data columns (total 9 columns):\n",
        "business_id    74832  non-null values\n",
        "date           74832  non-null values\n",
        "review_id      74832  non-null values\n",
        "stars_rev      74832  non-null values\n",
        "text           74832  non-null values\n",
        "type           74832  non-null values\n",
        "user_id        74832  non-null values\n",
        "votes          74832  non-null values\n",
        "stars_res      74832  non-null values\n",
        "dtypes: datetime64[ns](1), float64(1), int64(1), object(6)"
       ]
      }
     ],
     "prompt_number": 8
    },
    {
     "cell_type": "heading",
     "level": 4,
     "metadata": {},
     "source": [
      "Keep only required columns"
     ]
    },
    {
     "cell_type": "code",
     "collapsed": false,
     "input": [
      "dataDf = df[['business_id', 'review_id', 'stars_rev', 'text', 'user_id', 'stars_res']]"
     ],
     "language": "python",
     "metadata": {},
     "outputs": [],
     "prompt_number": 9
    },
    {
     "cell_type": "code",
     "collapsed": false,
     "input": [
      "dataDf"
     ],
     "language": "python",
     "metadata": {},
     "outputs": [
      {
       "html": [
        "<pre>\n",
        "&lt;class 'pandas.core.frame.DataFrame'&gt;\n",
        "Int64Index: 74832 entries, 0 to 74831\n",
        "Data columns (total 6 columns):\n",
        "business_id    74832  non-null values\n",
        "review_id      74832  non-null values\n",
        "stars_rev      74832  non-null values\n",
        "text           74832  non-null values\n",
        "user_id        74832  non-null values\n",
        "stars_res      74832  non-null values\n",
        "dtypes: float64(1), int64(1), object(4)\n",
        "</pre>"
       ],
       "metadata": {},
       "output_type": "pyout",
       "prompt_number": 10,
       "text": [
        "<class 'pandas.core.frame.DataFrame'>\n",
        "Int64Index: 74832 entries, 0 to 74831\n",
        "Data columns (total 6 columns):\n",
        "business_id    74832  non-null values\n",
        "review_id      74832  non-null values\n",
        "stars_rev      74832  non-null values\n",
        "text           74832  non-null values\n",
        "user_id        74832  non-null values\n",
        "stars_res      74832  non-null values\n",
        "dtypes: float64(1), int64(1), object(4)"
       ]
      }
     ],
     "prompt_number": 10
    },
    {
     "cell_type": "code",
     "collapsed": false,
     "input": [
      "dataDf.to_json('data50.json')"
     ],
     "language": "python",
     "metadata": {},
     "outputs": [],
     "prompt_number": 13
    },
    {
     "cell_type": "heading",
     "level": 4,
     "metadata": {},
     "source": [
      "Split data into train/test 70:30 (For each user, extract only review that has stars above res's avg star)"
     ]
    },
    {
     "cell_type": "code",
     "collapsed": false,
     "input": [
      "grouped = dataDf.groupby('user_id')\n",
      "size = grouped.size()\n",
      "print len(size)"
     ],
     "language": "python",
     "metadata": {},
     "outputs": [
      {
       "output_type": "stream",
       "stream": "stdout",
       "text": [
        "769\n"
       ]
      }
     ],
     "prompt_number": 11
    },
    {
     "cell_type": "code",
     "collapsed": false,
     "input": [
      "size"
     ],
     "language": "python",
     "metadata": {},
     "outputs": [
      {
       "metadata": {},
       "output_type": "pyout",
       "prompt_number": 12,
       "text": [
        "user_id\n",
        "--65q1FpAL_UQtVZ2PTGew    135\n",
        "-2PFmYGWB6rQhZtRh6PlPA     55\n",
        "-9mljS0O9mwdOnGv-Oea3Q     85\n",
        "-DRza4wuHHWfQx5HcG6qaw     58\n",
        "-F32Vl8Rk4dwsmk0f2wRIw    116\n",
        "-KCR0e2Nyc7a7qvqnr9njQ     57\n",
        "-OMlS6yWkYjVldNhC31wYg     58\n",
        "-XkW4sYeXhvfoUXvTUL-gg     72\n",
        "-a7d79eTKvmkpHZT7ePYDQ    112\n",
        "-kIvLyWpY17aRa0vPp-RmA    113\n",
        "-wwNJ0zd82_q8Gh5XXqAEw     58\n",
        "-xPKyCJiK9q1OFZ7GCZwBw     83\n",
        "04xW5mhSBaCzpjbcf2VSZg     90\n",
        "0CY9WLYFbVJfOMV2-B88oA     79\n",
        "0FtlTCPyKB4rjuM7mK02Kw     84\n",
        "...\n",
        "y9IKf7VckFc-fesWuDwgxg     53\n",
        "yJ22u_1l01H4NM3wCowIKw     76\n",
        "yXa1HFUJ3BtSqkDwTHdAUQ     62\n",
        "yhZxCcGyhltqsJN6foL_Wg     66\n",
        "yp90PduP1gD7kgCLWuQg4w     68\n",
        "yuPBS3fak77lgwO_9SXVYQ     91\n",
        "z06IHGXI_ofBc2DkAbCgnA     64\n",
        "z5g5Lclwt13_BO0BStohMA     52\n",
        "zCC6huLkNBEr3JUgQyxJbg    176\n",
        "zGz5NI4sscO4_6YYH-qVtA     61\n",
        "zHH2Iz49wCZYYDLBTv0YOg     66\n",
        "zJ7Rvp193kl9L0ue-rDxyw     59\n",
        "zdPRXhhJNCiCOgWQwoPlpg     94\n",
        "zfysCL-0uQNCWdGvzZ6QWA     79\n",
        "zuoeE7GdXXlCgr995ImWfQ     85\n",
        "Length: 769, dtype: int64"
       ]
      }
     ],
     "prompt_number": 12
    },
    {
     "cell_type": "code",
     "collapsed": false,
     "input": [
      "import csv\n",
      "def writeListToCSVFile(lst, filename):\n",
      "    with open(filename, 'w') as f:\n",
      "        wr = csv.writer(f)\n",
      "        wr.writerow(lst)"
     ],
     "language": "python",
     "metadata": {},
     "outputs": [],
     "prompt_number": 14
    },
    {
     "cell_type": "code",
     "collapsed": false,
     "input": [
      "for userId, group in grouped:\n",
      "    df = group[group.stars_rev >= group.stars_res]\n",
      "    df.text = df.text.apply(lambda x: x.replace(\"\\n\",\" \") + \" \")\n",
      "    pos_size = len(df)\n",
      "    print userId, len(group), len(df)\n",
      "    # train 70, val 30\n",
      "    tid = round(pos_size*0.7)\n",
      "    train = df[:tid]\n",
      "    val = df[tid:]\n",
      "    \n",
      "    with open('train/' + userId, 'wb') as f1:\n",
      "        f1.write(np.sum(train.text).encode('utf-8'))\n",
      "    with open('val/' + userId, 'wb') as f2:\n",
      "        f2.write(np.sum(val.text).encode('utf-8'))\n",
      "    #writeListToCSVFile(df.business_id.values, 'label/' + userId + '_bus.csv')"
     ],
     "language": "python",
     "metadata": {},
     "outputs": [
      {
       "output_type": "stream",
       "stream": "stdout",
       "text": [
        "--65q1FpAL_UQtVZ2PTGew 135 97\n",
        "-2PFmYGWB6rQhZtRh6PlPA 55 34\n",
        "-9mljS0O9mwdOnGv-Oea3Q 85 45\n",
        "-DRza4wuHHWfQx5HcG6qaw 58 41\n",
        "-F32Vl8Rk4dwsmk0f2wRIw 116 73\n",
        "-KCR0e2Nyc7a7qvqnr9njQ 57 43\n",
        "-OMlS6yWkYjVldNhC31wYg 58 48\n",
        "-XkW4sYeXhvfoUXvTUL-gg 72 42\n",
        "-a7d79eTKvmkpHZT7ePYDQ 112 64\n",
        "-kIvLyWpY17aRa0vPp-RmA 113 92\n",
        "-wwNJ0zd82_q8Gh5XXqAEw 58 46\n",
        "-xPKyCJiK9q1OFZ7GCZwBw 83 69\n",
        "04xW5mhSBaCzpjbcf2VSZg 90 39\n",
        "0CY9WLYFbVJfOMV2-B88oA 79 54\n",
        "0FtlTCPyKB4rjuM7mK02Kw"
       ]
      },
      {
       "output_type": "stream",
       "stream": "stdout",
       "text": [
        " 84 55\n",
        "0H9ne5frm1GjO6TjUwbxlw 53 32\n",
        "0Hmez6GVD2c_mGkhCgP9PQ 70 14\n",
        "0Ke0iSAPYi8hUVxLocAlYQ 80 62\n",
        "0VfJi9Au0rVFVnPKcJpt3Q 59 36\n",
        "0_nI0EtDmHdiBFIRL9RIlA 58 27\n",
        "0bNXP9quoJEgyVZu9ipGgQ 462 212\n",
        "0dgQa81w5it1PMpGpC_L0A"
       ]
      },
      {
       "output_type": "stream",
       "stream": "stdout",
       "text": [
        " 76 46\n",
        "0mWN-SJLbDE2LN-3QzOpeg 66 40\n",
        "0o0VMEJeQY0pAAZ9nxErBA 156 98\n",
        "0ouMuScWJ3GuNtWEmmsziw 86 80\n",
        "0qIsBt4EzBDCKrIviV55Ew 106 75\n",
        "0tYlK-FieQXAdmTQ9DWTbA 82 34\n",
        "100Df1wcVrl9rJgB7EG6xw 93 49\n",
        "1BW2HC851fJKPfJeQxjkTA 252 148\n",
        "1S7XdhbZWR17Wy4TBsIzaw 53 42\n",
        "1bV0I0j-YzDcfiXK2M-U8A 64 34\n",
        "1diI7PX0AxbbtiUB7nPbuQ 85 59\n",
        "1g8Crb6WGQUsA2l2X3yVGA 63 58\n",
        "1jyNMw5sbi9Qkdd-WmI5Nw"
       ]
      },
      {
       "output_type": "stream",
       "stream": "stdout",
       "text": [
        " 66 49\n",
        "1kED3-g-gqnc4JgHe89Xqw 56 33\n",
        "1wMGLaMIH7CcmJ2htS1rmw 90 47\n",
        "1ylYrKcGNA8MDkhNBTjHMA 71 52\n",
        "26wW6FNWdmC23Vz-sjy9Dw 50 34\n",
        "28nsy0LMP9C7K_4bnuSpDw 57 46\n",
        "2BzcoI6Kiq-2RQ9EUFR5Tw 53 53\n",
        "2FiNCj5rM3nF0qgaWf86Gg"
       ]
      },
      {
       "output_type": "stream",
       "stream": "stdout",
       "text": [
        " 54 18\n",
        "2FtCOwNwd6UsBgScSc1_Ug 62 38\n",
        "2KNPtV5E44vAiEr5BvMkUA 101 63\n",
        "2LCrT_BOJvGV4xi_lmoRcA 61 39\n",
        "2XCsVpAMsGUykrM-BBFEXA 100 68\n",
        "2h0A-NirfNl2p2SquFWYHQ 51 39\n",
        "2hXL2ExBsgjJNpm6BJy0lg 91 60\n",
        "2nXFEyQ06RfcdAXIPbxuwA 55 31\n",
        "31OZmHva7Q0dTNqpM4TKug 93 65\n",
        "33vUIil_GCaT92aUaZhRXA"
       ]
      },
      {
       "output_type": "stream",
       "stream": "stdout",
       "text": [
        " 126 90\n",
        "34gJ_KlP3RM6jotNT6TcDQ 67 49\n",
        "3FRzcb41y7LYr5yRMQSoqw 62 40\n",
        "3ONPPazUH-Q3XblYJIaA1A 122 82\n",
        "3TGup17SCV6uHsifmTKirg 65 47\n",
        "3Zi1udoY2iT9s8Q3X6tgZQ 90 66\n",
        "3ZnCGqeaJP5VDXnx_roIXQ 111 82\n",
        "3dno9Y7mtvi2tq6IfMpDeA 81 60\n",
        "3eit3w0zDbb-z57c9P60vg 90 80\n",
        "3gIfcQq5KxAegwCPXc83cQ 565 242\n",
        "3hPmlMAP3PfHMiwNW_RUZg"
       ]
      },
      {
       "output_type": "stream",
       "stream": "stdout",
       "text": [
        " 66 34\n",
        "3nUQ4xbLlySDbkE03nyp-Q 71 24\n",
        "3uR5YTXgW4hatuFnaNxSGg 86 55\n",
        "3uU_6L8GnFOHTsO4I3oedg 53 36\n",
        "3vML-LnH0dIyHCrqF5xEYw 66 45\n",
        "45V7-1r79DEG0HbuaKYIlg 122 83\n",
        "4CgusCZkipvUhvBZrRD46w 115 61\n",
        "4D4UzEOu-QG4-jkyfynhPQ 115 103\n",
        "4E_nPWw89FLFHdNsEgMH-g 204 146\n",
        "4IxLt4QvCsJEdaNvH9QApw 144 87\n",
        "4TmAgCeJMt1lIOfjmWmdWg"
       ]
      },
      {
       "output_type": "stream",
       "stream": "stdout",
       "text": [
        " 75 48\n",
        "4UUIpbOTPmu43wuC2aSGkg 107 59\n",
        "4_YfcfHkCem1onJFkItxjA 156 95\n",
        "4dnDsoHuxUtzhaumxbpR5w 85 46\n",
        "4lkTIhTuMhLprQprGlTRlA 70 54\n",
        "4ozupHULqGyO42s3zNUzOQ 352 319\n",
        "4sIK_74UwkKU9YQXIfgCdg"
       ]
      },
      {
       "output_type": "stream",
       "stream": "stdout",
       "text": [
        " 54 44\n",
        "4uw7hCPC3owbFuhAkyxrAw 58 37\n",
        "4zinPJ38-WxjPPomn7CPAQ 51 36\n",
        "5-2JHDnSsoSaoRKDHPeTtQ 50 39\n",
        "588oY8EejEFCr-ym_2TR0Q"
       ]
      },
      {
       "output_type": "stream",
       "stream": "stdout",
       "text": [
        " 79 78\n",
        "5E193w76Qlhoi1gkyakW2A 97 73\n",
        "5Ka8MMYEoZfsU-jZzUt00Q 54 31\n",
        "5RxpP2Woo7CpOGUmKgDyAw 51 36\n",
        "5_JuHOYNL3skhzxZzPESSQ 75 46\n",
        "5c4p-A1sLBlpS1cPaMpdBg 65 33\n",
        "5gmnzvjYprzK21Q5awYF_Q"
       ]
      },
      {
       "output_type": "stream",
       "stream": "stdout",
       "text": [
        " 73 55\n",
        "5j7qmDZTAetaH0yXFnAFyw 53 25\n",
        "5kJYTUtFUJT24dWNs6eW8w 54 35\n",
        "5lq4LkrviYgQ4LJNsBYHcA 81 60\n",
        "60i9h-gPKH1f0YC_bZXDhg 91 61\n",
        "66tWp8ThwPATFUxYNPyYLw 79 55\n",
        "67QGJdqABqaSEsQR4esrsA"
       ]
      },
      {
       "output_type": "stream",
       "stream": "stdout",
       "text": [
        " 55 36\n",
        "6G8vLJUi1Ees2qC3RGA3Nw 73 31\n",
        "6K6GvIJZ_G_luOrVZDwrZw 50 44\n",
        "6OWHDbEq23f24Vki_veHBA 228 134\n",
        "6WrOT1dj6sigl_voiwQ7HA 51 42\n",
        "6ZXbTu3isjKoD42_iKOhqA 85 49\n",
        "6e7pZofhDuIlD_rX2oYirQ"
       ]
      },
      {
       "output_type": "stream",
       "stream": "stdout",
       "text": [
        " 52 33\n",
        "6kmu0mYbdpMIOZ6Y0eVsxg 153 106\n",
        "6qL7A04QNfLAj5Tkig34YQ 60 29\n",
        "6ts41fCsDKHbFZaKOMNmVQ 161 104\n",
        "6wpEHXevnaIZp2kUTUfhxQ 65 53\n",
        "7C-jyTrOX-iJ-MrSJuh-8A 97 56\n",
        "7F-DVLnGmC5hHPUVfSfxDw 52 34\n",
        "7GC9fVWKa4a1ZmBGLH6Uww 158 104\n",
        "7RZ0mJJ00IiT56sloLBd1w"
       ]
      },
      {
       "output_type": "stream",
       "stream": "stdout",
       "text": [
        " 61 42\n",
        "7W4egS-WyR0hRHMfQtPEOQ 68 40\n",
        "7bdCfESkLLta4vwxO5tyHw 85 46\n",
        "7brf9WC0Gr_7bUBXEHs9FA 88 76\n",
        "7cR92zkDv4W3kqzii6axvg"
       ]
      },
      {
       "output_type": "stream",
       "stream": "stdout",
       "text": [
        " 144 92\n",
        "7jWmd57QoJnq2q4QyvVS2Q 63 45\n",
        "7knTjXA1lNJw7AMIIJi4YQ 51 29\n",
        "7lYUPgVDzJeJM7r5cyvumw 77 43\n",
        "7o7MF9B9lxcWupE8jiLOaQ 51 35\n",
        "7zDqr2I0-xpw9HF5Ha54cA"
       ]
      },
      {
       "output_type": "stream",
       "stream": "stdout",
       "text": [
        " 143 72\n",
        "8-2W5CmkDl9vrkxRpkiPRg 81 53\n",
        "8-mw_aotUGmP0k0s6QKwOA 76 55\n",
        "81hpuEdYu2C4hp6oL7EPZw 70 21\n",
        "8CNEh7fSbLwDuAKhLjDPKQ 88 63\n",
        "8JC-Yb3UDUv2FUl5ym1nVg 91 74\n",
        "8KmHPVzyBW45_tXX8zU5mA"
       ]
      },
      {
       "output_type": "stream",
       "stream": "stdout",
       "text": [
        " 63 41\n",
        "8T0evnkvRaTomru7ghPGeg 130 41\n",
        "8WQubmP7G0NM3IyzyMnCEA 117 80\n",
        "8cJ-n5BEb1LAR0qFM9zrxg 98 62\n",
        "8dbRf1UsWp2ktXHZ6Zv06w 245 187\n",
        "8n--xRBQ9eLDi0vpQ5fGFQ 89 64\n",
        "8p4at4zdzCpueAmSBaorZA 156 114\n",
        "8p8HZNmrkUBtMx_vmW9dNQ 64 50\n",
        "90a6z--_CUrl84aCzZyPsg 480 391\n",
        "9FbgqZ5u9WTLAs28nNafIQ 81 51\n",
        "9JpnM-xebt0343KkGR_HKQ"
       ]
      },
      {
       "output_type": "stream",
       "stream": "stdout",
       "text": [
        " 56 45\n",
        "9MJAacmjxtctbI3xncsK5Q 54 37\n",
        "9SZBVZ-mxebOVa1BlWFtWw 130 71\n",
        "9VPNlcKsL99FvKtz1r9qJg 71 45\n",
        "9bP3urjM__IP5csFh9ZsuQ 77 44\n",
        "9ebaAGLVIgGKpDLFwmvaiQ 95 49\n",
        "9qCPmT6ovJjxL4tJB4ANCg 109 73\n",
        "9tXL9eJNIi9SL5pdCYeyZQ 59 37\n",
        "9uuPzUWC1m_TnMUV9kXu9g"
       ]
      },
      {
       "output_type": "stream",
       "stream": "stdout",
       "text": [
        " 61 46\n",
        "A99dyhEqcd_yXKPfBWeZHA 124 76\n",
        "APLIPfq1Rf8QyhHHk2uAyA 159 88\n",
        "AYGHNy8gPxl2Q-etTT3hZw 73 45\n",
        "A_O8wZOsMTPwyeYA4-Rsow 113 58\n",
        "Aaafbip-U2aeTXbvinBLiA 94 45\n",
        "AcErO3j0GFTXbdJHbuD2-Q 55 31\n",
        "AekI5EGgoYTFKecU3I0jfA"
       ]
      },
      {
       "output_type": "stream",
       "stream": "stdout",
       "text": [
        " 63 33\n",
        "AeucYo8J-rZjcq09Wuqsjw 158 107\n",
        "AirVzN1BVQBmq5zY0YMNYQ 117 89\n",
        "AkJFqLqHHAKY3H5R8p7cPQ 131 100\n",
        "AnH84g9V10x41CXmCvcaFg"
       ]
      },
      {
       "output_type": "stream",
       "stream": "stdout",
       "text": [
        " 78 49\n",
        "AuQ28IMcqAloDmlFI7CKoA 64 61\n",
        "B4K5ruafil9RSDiTIL-1Bw 57 28\n",
        "BEcT2wCP-G0LfkKZSlYdzw"
       ]
      },
      {
       "output_type": "stream",
       "stream": "stdout",
       "text": [
        " 69 53\n",
        "BKP-vxzZEk6NIyb3a36PCg 54 22\n",
        "BLUDPZW_d2fAF0Pia28ZlA 82 52\n",
        "BV8c4QZEzvPWA00ZqJp-jQ 98 76\n",
        "BgY9LwHmY8BO_lPI3pNRFQ 62 35\n",
        "BiDA7uVJ5igMCsp4ZfpCpQ 74 42\n",
        "BiZvuNKi0bs_YwttHhhq4w"
       ]
      },
      {
       "output_type": "stream",
       "stream": "stdout",
       "text": [
        " 76 59\n",
        "BjwXX-sChcjx2E55B_7rXg 115 61\n",
        "Bmzq_nkjYqp8aWn12RJdhA 176 130\n",
        "Br9mpMhkVunsp8Un5GpYWA 58 41\n",
        "C5hDZleIfHtcXS9p4ZYBuA 113 78\n",
        "C6Av_qoKe3H5-9BOnzi7yQ 53 31\n",
        "C6IOtaaYdLIT5fWd7ZYIuA 449 332\n",
        "C8ZTiwa7qWoPSMIivTeSfw 171 107\n",
        "CAlxnkAuqNetlUmWtCQ_eQ 56 35\n",
        "CWYHXKPXqP4KgY3TyI54lg 71 51\n",
        "CYHX8nnPoqclfWSsl1JWnA 100 71\n",
        "Cp-PV8rsypbO-xBrQ6KmQg 202 130\n",
        "CtuoM6_Im-xBZMAqPKMQ8A 54 48\n",
        "D4-0xGve18qMPnWQgMTbyQ"
       ]
      },
      {
       "output_type": "stream",
       "stream": "stdout",
       "text": [
        " 51 48\n",
        "D5J4mKahKvUBJUTWanZwdA 77 51\n",
        "DDad5K6GNA0sXB7N1OB6wg 63 42\n",
        "DESuUHNcQUULDCS9KlNVcw 51 35\n",
        "DJzbBORAJjTiTzFCEdoMQQ 63 46\n",
        "DOJM58OkGSsIdk2qCUZnLQ 90 62\n",
        "DQURv5CKj7iRdiXyS_Eikw 59 51\n",
        "DfJ8B8T1fgNA6_ZT-aeUlQ 94 65\n",
        "DghMl81bONCh5ELnrgn4Fw 74 43\n",
        "DnwHp_A92KvllfaUIdFraw 107 87\n",
        "DrWLhrK8WMZf7Jb-Oqc7ww"
       ]
      },
      {
       "output_type": "stream",
       "stream": "stdout",
       "text": [
        " 485 236\n",
        "DtTuVmtooVyMnGhwPrzLww 125 88\n",
        "E0WWNXVze_sfDCbM0oMYvw 57 51\n",
        "E2DYTWOVSptFJqM7jckPpg 74 38\n",
        "E4HbTIHd9PVjUnEKpysaLw 53 41\n",
        "E5QyEU6FCQwnTys0S73zNw 98 72\n",
        "E5qFR0RBQBoXx8FbrOkdbw 107 69\n",
        "EAJjMgKIjiaVb_2Q9ROeCQ 51 43\n",
        "EGiAtB4sgZhDdYpRkDneig 154 115\n",
        "EKwGhgLrM18ErVKKeYE2UA"
       ]
      },
      {
       "output_type": "stream",
       "stream": "stdout",
       "text": [
        " 100 55\n",
        "EP3cGJvYiuOwumerwADplg 194 162\n",
        "ETIAM78kYT_xPM8b2iqi7g 107 59\n",
        "EeSBXLMh3CvjSqBpJWT9gw 56 34\n",
        "EoTooNBcxu0Hy0-XeZI8aw 78 30\n",
        "Ep3anRsVSShs7O4DlEmoWA 52 33\n",
        "F6QsMoJdvtohlbnST-fDyQ 93 82\n",
        "FHDI8M5sm6lrZXNUBZAOfA 69 41\n",
        "FHJUj7EHB9nB2czVOzQX3Q 81 47\n",
        "FL1xj5qKFZkU5GXVBj5TUA 57 40\n",
        "FPljkW6R0DXXbMFfKtTCXQ 58 22\n",
        "FUMdzARf71drXyDZ7lkpWw 85 34\n",
        "FYsAZu6zAD0aCGqg4T7eJw 51 38\n",
        "FktbKOzznpoKTNXMVtc8EA 104 56\n",
        "FmwWPEQMcxCGI5K1yqAXaA 90 55\n",
        "G72bs75BqgW9NAVv00ADTw"
       ]
      },
      {
       "output_type": "stream",
       "stream": "stdout",
       "text": [
        " 132 99\n",
        "GJl1qIvyQEs501rfw0hDBg 67 54\n",
        "GMkF0yJWwFRVO9kiGOcojQ 61 30\n",
        "GP-h9colXgkT79BW7aDJeg 66 45\n",
        "GRgBu4K7GOb3354esp_xkg 77 36\n",
        "GZZs7288ZoIz2hx_vcAVUw 53 30\n",
        "GeGDZ02UfARKBRl7LqKZuA 53 31\n",
        "Gh1EXuS42DY3rV_MzFpJpg 50 36\n",
        "GhCA6N7sRYZHBr5QKAcCWg 52 39\n",
        "GkWuTgewni9bzPM4HUCO-g 69 30\n",
        "GnZWh25MyJD1d5FMKl3QmA 71 38\n",
        "GoDjpEPTyUQoQVRwPljIgw 62 45\n",
        "GoymUzKqvET2QOZkIWZi9w 97 66\n",
        "GrSixRnGIxNUJ1Cn5DNX9A"
       ]
      },
      {
       "output_type": "stream",
       "stream": "stdout",
       "text": [
        " 299 180\n",
        "GubdNFoDAsiwE6bWIr97cQ 114 60\n",
        "GyFmGA5UQZ4pXdx1lUH86g 85 46\n",
        "HFzJb1EnBsB6fD5s-9fXUA 62 38\n",
        "HOleI3jz1MLNUJ6cc1x0Pw 155 96\n",
        "HP_xZYNC5XK-VyNrnHbtRQ 72 50\n",
        "HR_Lxh2ycv0t745Ohiziew 88 69\n",
        "HY9qpAamqLXFoa7xMwNntg 82 52\n",
        "HZ3ItZ23xZHqjUjRIdPi7Q 80 39\n",
        "HZeFzs42f0iGaA-sP_hUnA 73 54\n",
        "H_JsAwjiGEOr_RlZmwfNsA"
       ]
      },
      {
       "output_type": "stream",
       "stream": "stdout",
       "text": [
        " 96 77\n",
        "HestW1GKSkmUs_vpnauE_w 53 45\n",
        "Hi7VohxSS5OBt98w4j8t4A 129 87\n",
        "HjhR3u17OjxD4s8t3toTfg 89 67\n",
        "HvaVgP0S0dFaCbBDIQIkag 71 39\n",
        "I-P1v7sRjDLEfVOndp01kA 80 39\n",
        "IBxgFchRh2VblFbqCyvOng 69 36\n",
        "IDHrwv_RCildFvmfWTkj5Q 84 39\n",
        "IGkoathSlJmIOBDGo9vUZg 108 75\n",
        "IO3AsR6cdMto7VCwfPzf2w 94 76\n",
        "IajbWwj6l-KHrfSEwZBLgw 66 39\n",
        "IhcTLLWKS6ZiNyIX9oQQPQ 102 88\n",
        "IjafRfMSAQpInLlw-Vi0Cg 148 64\n",
        "IkC2BKzADqgPlvaac5gRHg 111 65\n",
        "IpCH-jaFA-1YgCdi6YmnFg"
       ]
      },
      {
       "output_type": "stream",
       "stream": "stdout",
       "text": [
        " 54 25\n",
        "IwxFKXDokKZdiD5iUdJPgQ 52 33\n",
        "Iycf9KNRhxvR187Qu2zZHg 219 154\n",
        "IzMeF5f2043jgDjhzNeDbg 88 65\n",
        "J3I2NClEbD1Xr8lOdjxlqQ 129 66\n",
        "J5nb9AT1LDiGN4_hY0Au8Q 110 52\n",
        "J72XoQspNBmPsX2iKl2YvA 53 47\n",
        "JG5PCcUmJP46MS70H7HdcQ 78 54\n",
        "JffajLV-Dnn-eGYgdXDxFg 278 192\n",
        "JgDkCER12uiv4lbpmkZ9VA 257 129\n",
        "JiuZExhB7nkio1OwgEbJjQ 57 25\n",
        "JkMOQaMjlBHMqp6gj-hL3w 130 63\n",
        "Jmfjq2QR2PmMBl7NOy2z9Q 77 65\n",
        "JnRT9i2d71pY8D8ngzCz9Q"
       ]
      },
      {
       "output_type": "stream",
       "stream": "stdout",
       "text": [
        " 57 37\n",
        "K0euQLFAcKhQPZ6JxGAryg 96 49\n",
        "K6MrbZeqKG35ZiucFfucvw 79 51\n",
        "K9dSPbFhxbLPNZBTp7uOMg 72 44\n",
        "KI4sBf9jWLs4aGm_mIsFQA 69 53\n",
        "KJDymAcoPiW_vuqthGxfpQ 115 78\n",
        "KK_2vxqNug1wQhVo22soQw 75 33\n",
        "KLekdmo4FdNnP0huUhzZNw 105 74\n",
        "KSTOdz0lSFCkqBSRNwjERA 122 67\n",
        "KYeLSM3MQpirmHukVV5Iow"
       ]
      },
      {
       "output_type": "stream",
       "stream": "stdout",
       "text": [
        " 126 54\n",
        "KcI2VGSvRhLAmw6vZrc8WQ 57 34\n",
        "Ki71iAFTxsPPQfX430c99Q 105 56\n",
        "Kqvfep2mxS10S50FbVDi4Q 263 177\n",
        "KucBnMrhalzxnD9AWrxwYQ 113 50\n",
        "KvWny9qUZJKrqo_LYesgSg 90 55\n",
        "L3XWX_dd8_pYnRSMdppjDg 66 43\n",
        "L9-X4KASFfdhOeVeYSDgvA 111 89\n",
        "LHQ2fuC2RDS-Md_dN2O1IQ 58 29\n",
        "LK1POYLdvIBWzbqDxaxKRg 87 84\n",
        "LP8JFPcEtA0ti8g_BRBX4w 52 38\n",
        "LXWAXIeYFIdgd2JVPF-9qA 114 71\n",
        "LaEj3VpQh7bgpAZLzSRRrw"
       ]
      },
      {
       "output_type": "stream",
       "stream": "stdout",
       "text": [
        " 105 64\n",
        "LdhwY7eudLlx1KFQQe9GwA 54 38\n",
        "Lp_Ykqfbv5Q-oyGYlMGJRg 80 62\n",
        "LqgGgWi3FLHBViX9tmZ9sw 141 91\n",
        "M6Wi9pKDx-W6rGgmf9GVMw 52 43\n",
        "M6oU3OBf_E6gqlfkLGlStQ 314 166\n",
        "MI_ZFuJ55bRnaarjYzkKRg 80 72\n",
        "MIvCXHgE_vcKz7lYS5FPvg 73 50\n",
        "MLNXzph9nlCXGiSuv5G5Yg 97 65\n",
        "MUHoBFzwRoXpCpgYSN8KRA 87 72\n",
        "MWt24-6bfv_OHLKhwMQ0Tw 183 135\n",
        "Mb0psF4WQF7gZSuZafVr-g 140 78\n",
        "MnDHJvePh4cWMrBgOp0_Ig 93 83\n",
        "MrPOzC4Fz_xEwJkA051V8g"
       ]
      },
      {
       "output_type": "stream",
       "stream": "stdout",
       "text": [
        " 65 49\n",
        "N-D-d1Z4UybdlkK1HxlNPA 128 63\n",
        "N1Q6HiZvnZHjNU712Gymqw 63 49\n",
        "N3L6SDymSRkYQtTiSDmXSg 95 44\n",
        "N4BnjZFAuuAUTjxs93SYlg 68 57\n",
        "NAohdbmsThewbeUkMMBohg 81 67\n",
        "NLDDaat42UQXQCOpU4e2TA 106 65\n",
        "NNdfPF-UhvLB8FxbsuSC5A 58 44\n",
        "NWEKM2JBpPCtvGtIsRAgMw 66 41\n",
        "Neal_1EVupQKZKv3NsC2DA 63 39\n",
        "NjtSvsZTJ6WP7uXYn6o0IQ 95 58\n",
        "NqoaK7KuK20O8t5nLLgPLg 62 60\n",
        "NrRS56Dv52m2BND-9v1qWw 79 60\n",
        "NsIoM2PlaL28E-jbrs4Zlw 50 23\n",
        "NvDR3SPVPXrDB_dbKuGoWA 251 136\n",
        "NzlVca80ziZxANoTXxHfvQ"
       ]
      },
      {
       "output_type": "stream",
       "stream": "stdout",
       "text": [
        " 55 38\n",
        "O758lrR1X2zI-ySeyjdr6A 75 47\n",
        "ODhV53XhesCBLJVfGsJGNA 81 60\n",
        "OESKxoNFZcKl47NrOubgAQ 51 46\n",
        "OJ4FQEvd2h8QXCMHwCostg 69 50\n",
        "OMC3DRyGrDbq-oMtdRAH8Q 70 28\n",
        "OPStKHloEOVxcBtFgkzh2A 181 46\n",
        "OQMOgqS1NFIyAW4i66iDYA 87 56\n",
        "OYpsdMcpdCdlkknpgpFMLA 54 30\n",
        "Ofxlhi_HKp7myFDpwg9aIA 77 44\n",
        "OksbhhgC71Ary3zNHMypeQ 66 27\n",
        "OpjFNuQiyqh9Sms5Ex8Wxg 78 46\n",
        "OrMY-AG_Cx10WD4xDeQAUg 53 38\n",
        "OroGqv0t7fy-Q3E2PzTEwQ 88 51\n",
        "OsYh3jArm6fgozczE85ZeQ 83 56\n",
        "Ovpa3S8xD96dLE5eDxcxJg 157 132\n",
        "P2kVk4cIWyK4e4h14RhK-Q 239 126\n",
        "PJY1J0xMPzMVvzC4R5b0HA"
       ]
      },
      {
       "output_type": "stream",
       "stream": "stdout",
       "text": [
        " 54 34\n",
        "PNS9z4aFDbfhpIsHCfNvNg 73 45\n",
        "PS0lCxjGNeUrKxYSdpW-Aw 70 46\n",
        "PShy2RYNadDUhJf4ErOJ7w 240 162\n",
        "PVbcpvrSKv2GTBK9QiQgiA 51 35\n",
        "P_LzcrlVXFdgBq_24UnlUw 73 37\n",
        "Phj1jHdpcPPBE1hNg9-Tqw 51 32\n",
        "Pk5T0OFCbl8mIKkKYyglWQ 86 48\n",
        "PmnXHiOiRqgjzEtYu4_46w 58 41\n",
        "PnEAXZ7WyJMYBr9IIulh5Q 60 37\n",
        "PoQOIZc2q5nud7uVz_jdjw 68 36\n",
        "Ps1Db9zOatoF_76FZNO5CQ 246 126\n",
        "Psh8PaEh8c2Wn8YjwyGVvA 100 82\n",
        "PuTmcfPDLNUAKo68LmdZOA 79 51\n",
        "Pv7DGHzZ-uqIUdOsqPpsVg 142 101\n",
        "Q5dlLCEni_my05az9wIptg 51 30\n",
        "Q6FaSZpCtVv7PXECwDL1bg 62 52\n",
        "Q96IRvil6RNgdLmGKuh81A"
       ]
      },
      {
       "output_type": "stream",
       "stream": "stdout",
       "text": [
        " 52 35\n",
        "QBQlErZajdIyXX84dvFUnQ 88 51\n",
        "QDIhUXuNvXPY2Gv94QFiug 58 43\n",
        "QWDy_aciIuQJlgmxiyJ-Gg 60 23\n",
        "QYgcusG-G0bwUOt0b5rT6w 55 48\n",
        "QdypppSRw2H5UtMu1IebLw 73 54\n",
        "QhuESGhOQWnKqwlSrISm8A 72 50\n",
        "QiR2X306Yzd9fuJdKDhkGg 55 32\n",
        "Qtro4APUHh1wEwnVhciPPQ 53 21\n",
        "QwO4LVCiPZZdg5URrQfYpw 50 34\n",
        "R4Ax3btoJ6qLXhqq6J50VQ 64 30\n",
        "RAWy3YCE-jwfyuGvwzUaqQ 62 51\n",
        "RMX11FC48KZTYIeExtGUCw 79 37\n",
        "ROr4DQ-gxlfUKmiDC-qSEQ 94 63\n",
        "RdWhGfwHORbIEyFj6YbZow 50 30\n",
        "Rg4gzsz3w00vRlIOXcGUIA 81 48\n",
        "RknsoxpICgtuuv46uaTpyw 77 53\n",
        "RsUNADZTrJ5xFXVMXJC1MQ 83 67\n",
        "RxfFQxUtSIGYwTKU_rvAeg"
       ]
      },
      {
       "output_type": "stream",
       "stream": "stdout",
       "text": [
        " 109 82\n",
        "Ry48Bta6spNowOkiMNC_xg 77 56\n",
        "RyKKn7lV7StxDngkGt_6_w 55 30\n",
        "SAAMpBGcVVNAww_4yZpIoA 73 50\n",
        "SBbftLzfYYKItOMFwOTIJg 72 49\n",
        "SEDFpR4oMPKqXMjbJiMGog 109 84\n",
        "SFpGhgL85C9Hs54FuXFaoQ 58 51\n",
        "SHcX9hp5RG3-OqsbvissIQ 90 64\n",
        "ST8Yzlk2MqKlcaLqL2djBg 247 205\n",
        "S_S06oA6xGAPr-HC1kLVlQ 55 53\n",
        "SimBqxBHYwkPE8X7f_RnVg 91 55\n",
        "Sjp6EYsqzdlTvymER6wBfg 112 97\n",
        "Snr-iImWYYD_a_7Iar3E0w"
       ]
      },
      {
       "output_type": "stream",
       "stream": "stdout",
       "text": [
        " 52 30\n",
        "Syc4pbEkL3bbzjO4X4HhQw 86 46\n",
        "T7J9ae0wTskrI_Bgwp-4cA 297 134\n",
        "TCEqENMcnIjsBCjlI_Stzg 79 71\n",
        "TESe3g-BJSdZ5H4KC7yr9g 53 35\n",
        "THYIqfnLV54VZ_v2hCfq2Q 70 38\n",
        "TJRBA15ziLkf5chQrCrzHA 64 30\n",
        "TQ5eVGOFr_qB5_BbEd3Sow 105 87\n",
        "TTP7l5g4QUVCpQZ9NTAWqw 50 40\n",
        "TvtARzzT8bvPKLiLEeMIHw 59 44\n",
        "Twz957LGX71_U-qWXmZF7w 71 58\n",
        "UCQNrwN4_hHHTWYa8cqe_Q 219 156\n",
        "UPtysDF6cUDUxq2KY-6Dcg"
       ]
      },
      {
       "output_type": "stream",
       "stream": "stdout",
       "text": [
        " 159 124\n",
        "U_fAIe7CUaGMejwSdNvMgw 75 61\n",
        "Ud43DdZ6PibSYEtsi18F4A 57 28\n",
        "UoBfwbXaixelZBghbJ2cSg 81 40\n",
        "UrJSPcSii2LyKViKotQ_Kw 58 39\n",
        "UsULgP4bKA8RMzs8dQzcsA 165 94\n",
        "V0y4fqp-4pSRfsz0FmsjPA 91 57\n",
        "V6rhoTCw7S6H8eHwv2M6Vg 92 63\n",
        "VPXgY9lGJF3XC4ZpusxNuA 278 116\n",
        "VURvHke7yvGL673wgcp9nA 61 17\n",
        "VexAJmqOClKzm8KbY7xs5g 56 30\n",
        "VgdDYz0-i1kDszfEu5nFdg 89 52\n",
        "VqSCQCva71Q-ZVcMsYfQuw 96 63\n",
        "W9ZG5q-QIblXYeHgaPS5Uw 78 54\n",
        "WESBNCIvswTWh-Ak2uGf4g 52 18\n",
        "WI4DyaHOz9SMhngG83QbNA"
       ]
      },
      {
       "output_type": "stream",
       "stream": "stdout",
       "text": [
        " 58 17\n",
        "WJkmgkrSPMHTfDTD3VgqqA 64 26\n",
        "WWxCMDn8rVHIrIFoKRcRDg 96 59\n",
        "W_QXYA7A0IhMrvbckz7eVg 205 131\n",
        "W_R-gVF8OHNrIhtmyhDnyg 96 80\n",
        "WcnFWEVx9HO4eplGqvvr1w 63 51\n",
        "Wh5pL_iTBOj3R4W7cJWEkw 74 42\n",
        "WxeD74JGiwjljzHndYSvmw 70 59\n",
        "Wy7f9DOuBEOenhnA7KIKoQ 56 37\n",
        "X5GbNXY_nNoa_vTZDD0aCA 183 147\n",
        "X7dxykmIV9LL5ZxLtgQYXA 50 43\n",
        "XBHJCDzNh--mBhJkzyM_iA 166 126\n",
        "XTFE2ERq7YvaqGUgQYzVNA 65 44\n",
        "X_kPh3nt0AJPNPHye2rTlA 75 68\n",
        "XeoAojoz5johV2MQ5ngNig 96 65\n",
        "XfUbS8krsXec3nKYA63jrQ"
       ]
      },
      {
       "output_type": "stream",
       "stream": "stdout",
       "text": [
        " 63 39\n",
        "XgIhw-aWaq_Fx3ZVQGjnuA 164 100\n",
        "Xm8HXE1JHqscXe5BKf0GFQ 114 63\n",
        "XpejQYZqVcYGX7fYuYHzSw 71 42\n",
        "XqMkm-DD9VsdcKx2YVGhSA 327 180\n",
        "XxA5k_iyzf9HdvPMp_J27w 51 34\n",
        "YLE6GoJ61fb0QBF7JTkaJg 147 81\n",
        "YPk47NcyWSkk-541OxyzMQ 73 37\n",
        "Y_nk4KhoHlkd1WRKCfIhuA 82 52\n",
        "YbHL_lmvARxf0rz0WlVQPQ 63 42\n",
        "Yk37VAp452K7FwHWd1rrQw 142 117\n",
        "YoBgKOdfpGH48LpIDSfoQQ 52 25\n",
        "Ypz7hxOCnrg8Y8vxHJU-sQ 85 58\n",
        "YsPqt0gxG60l0cJvHl_ylw 56 34\n",
        "YuuzQtcqBpuOzi8ZJqfzTg 56 35\n",
        "YzNZNgpOy9tthDnczS_ajg 76 58\n",
        "Z0_C4HRVvkLkyEsVGGMnkg 62 38\n",
        "Z1lPtIHU7bRoIvuVa01H5w"
       ]
      },
      {
       "output_type": "stream",
       "stream": "stdout",
       "text": [
        " 61 26\n",
        "ZALzZWz4dYHyTGuBS8tFrQ 83 49\n",
        "ZC49A1K-if7KP8VJXoqELQ 142 110\n",
        "ZW8jy6ehrNzn9A5iCubVGg 82 65\n",
        "ZWdsr06AvPgDzahZQ7hd2g 95 58\n",
        "ZZ43etAB2n_T53YBYtf8Dw 78 26\n",
        "Zgp9T6IOVFOozrWDw_mUGQ 50 12\n",
        "Zkn45PKSC3Lj-o_ZnK35yw 56 41\n",
        "Zm08wcep2F-nRTHRyR8mpw 83 57\n",
        "ZmIgP4U4Ht9CYmNX0_zP6w 106 87\n",
        "Znu5KKqytHfmjbXfQo3f4Q 60 37\n",
        "ZoiBl0VS-36RXokRTJPlSw 74 57\n",
        "Zwtx7FLZcK5F2P0-Tz8mHg 130 74\n",
        "_4lqpCYCqOQzbB6xQGGhrQ 145 105\n",
        "_7el1cOgnfkNfmZKi277bQ 103 67\n",
        "_GVAV2LjUWEs9fGjslex_A 118 88\n",
        "_JJgknodFeeqOW2e9a3kKw"
       ]
      },
      {
       "output_type": "stream",
       "stream": "stdout",
       "text": [
        " 53 36\n",
        "_LsbT_uW0UE6rhsWiAIrsg 103 44\n",
        "_Lz4b5QL0K8ndeyz2vxslA 86 61\n",
        "_PzSNcfrCjeBxSLXRoMmgQ 376 235\n",
        "_aguQTUp7kMlWhWr2mojdA 62 43\n",
        "_jjIaczpcVDpHlH6l334rQ 111 89\n",
        "_mo4LtybzPjvg-i6meN-tw 52 31\n",
        "_p9EnnLQg6KDlIRU2fYEJA 58 25\n",
        "_rg8SIAg4w2_CsVJNlm7Uw 73 48\n",
        "_uL7OiQSfNsCd60DrAf7qQ 151 112\n",
        "a4LJJU26cSE7k12-0sEw0Q 55 28\n",
        "aIAjAU-6NH583EkQ6E9KRw 87 62\n",
        "aJfAJPoynVj-CBLGaXE22A"
       ]
      },
      {
       "output_type": "stream",
       "stream": "stdout",
       "text": [
        " 55 31\n",
        "aLTl_OkLo0BFRxdz1n6sYA 89 72\n",
        "aThkIdpPnim8OLES1WVvgA 65 36\n",
        "aTi0NVrcPJWbN6jAsJVcAw 54 43\n",
        "aaHyqSTcpdkismEP0bj0rQ 58 48\n",
        "ajYMtA6UN8nn9Dz7nFbLdg 78 54\n",
        "b2DKC4kC8-QeSeGZ_MF3XQ 138 75\n",
        "b4C9E7vTJrOdkJQA86xYSg 111 88\n",
        "b55NYJJavY4rXXx8V3HaFQ 61 35\n",
        "bMFSEta1Ju31P1EnssuUug 55 39\n",
        "bwmXfjwrogAaGqV33kSVpQ 136 56\n",
        "cBJqlNzyoJFak3_XRe2bvw 109 71\n",
        "cHnlIFP5WwJRer7_C2NUng 67 43\n",
        "cHoC_bpAfmsgdRhe04A3lw 52 38\n",
        "cRyNICH0mhjxagvSyVr60Q 77 50\n",
        "cTT7cTG6SuVOc1ib6gwhHA 56 29\n",
        "cUjy7cqOxoqq5l7XrNx4BA 135 89\n",
        "cXnWZPcrtHjKXbcNzulg2A"
       ]
      },
      {
       "output_type": "stream",
       "stream": "stdout",
       "text": [
        " 58 34\n",
        "ca2Sa9Enqg2GlWFQ95p8bw 82 54\n",
        "caELu3OqZm8LkdikpmEB4w 63 41\n",
        "ceKoQX0_IJZ6Lr9-9LGcbA 86 68\n",
        "chI2p-ROg2tXI2-tT2_G2A 52 46\n",
        "ci67CmnSsnvjiC3xlG_N0A 61 42\n",
        "d0wJVf7Gv7v1B-HHYhxZtQ 210 76\n",
        "d2RAl63RTdfZF7kcuKcj-g 78 54\n",
        "d66FhQQZzFDKxklh6t63RA 77 40\n",
        "d95On_QNeQPr01pRNzHa5w 61 24\n",
        "dUDzN6zl3j12zhByOrnF9Q 57 38\n",
        "dUrVJl5qi2CJWff7s8HJNw 50 25\n",
        "dVJ_y1NGSA_g6rc-NDDWHQ 50 30\n",
        "diDUDx82VePOC1hObkHwMw 120 69\n",
        "dn9DSDp9CYCRffmL1voq6g 147 94\n",
        "du6KeE54IFbPiXpU3LOd1g 159 100\n",
        "duTeTiNX__zYcznMX5CgMw 62 24\n",
        "e0Rls_7QxkVcFJtUXDaA0A "
       ]
      },
      {
       "output_type": "stream",
       "stream": "stdout",
       "text": [
        "63 36\n",
        "e4TQFVfepzHf--hnBsjntg 126 77\n",
        "e8DXpXcwOPdP25hG2IGwog 68 58\n",
        "eBwBjylS66qPcHs2_ajLag 121 72\n",
        "eOVVMnFC5jeAInwiG3uNEw 72 53\n",
        "ePduC-tSwrMQRjKI4Suh7Q 62 19\n",
        "e_raEH6Y6fdS20UWGpZ5Nw 50 34\n",
        "eeEj90eJiwYMLJfPW9kdxg 69 44\n",
        "ef7eJrSr7chDjDth0-k2HQ 63 35\n",
        "eiA073MhHpCdwBq8u_luZA 66 35\n",
        "el_BsZHqhCZK_VG27TyPBA 95 53\n",
        "eshIqohS-9FMLdKOhTr2Ng 65 53\n",
        "esomNneHvsEv91MmraM5ug 103 69\n",
        "ewnwxqKtpDv8erOIZkCpjA 64 46\n",
        "f01B5tRtqf3k6ak1pPSAWw 84 74\n",
        "f1-pIw_p0ifzu03TXjPRiw"
       ]
      },
      {
       "output_type": "stream",
       "stream": "stdout",
       "text": [
        " 105 62\n",
        "f3LA83yEEBMj9q92H28O7w 78 30\n",
        "f4CExFYr3GTMSBD4BccDQw 64 42\n",
        "f5CqKZlqK9Sox9z9wuooCQ 82 50\n",
        "f7Hv9J9GTTXd3XsfRgt3Pw 88 47\n",
        "fAiVqZv7P_oc5CzGMX_G9w 113 71\n",
        "fIvDzLhs-cXbTKWp8P3eIA 83 45\n",
        "fJGWSgGsvb6leJzOuE2O3Q 52 40\n",
        "fPHLPrymsyb6WSFFKoMrTQ 58 39\n",
        "fUs5XxOR82Hfrnyl4wi2QQ 106 52\n",
        "fWgsVZ18ABXZ3hCblnr5tg 50 27\n",
        "fYayRBmQjB8f5eyH1WR-1w 54 29\n",
        "fbjk9jZjru5xQw5a1ESzXw 58 24\n",
        "fczQCSmaWF78toLEmb0Zsw 427 301\n",
        "fev0iI-XDrteD4SYRKjiUw"
       ]
      },
      {
       "output_type": "stream",
       "stream": "stdout",
       "text": [
        " 180 104\n",
        "fl6oI21uXoxVMwfR6lFanQ 61 54\n",
        "fwEPqYiyZCaB7QKY6a7h5g 77 52\n",
        "fwIXyM_7HFRfkVQMne79AA 52 31\n",
        "g6rlp5No6GjEDXkrjvg1kQ 88 56\n",
        "g84VjttN28PWiv_WtdhnSQ 70 43\n",
        "gO71ikoIl4SzgQZtrkNFxg 59 50\n",
        "gTCM7qlVrwdml-hFB6aJqQ 63 46\n",
        "gUXfVNgnNF9WU73T-d-FKQ 62 50\n",
        "gcyEUr4DXcbjnGRAWFtfAQ 192 144\n",
        "gg_OKjOAl_vVmdh5ZETuiw 83 51\n",
        "giwch_jkHmILclbawH3FSg 81 60\n",
        "gmr1F-8sjzNns30aK2nXkQ 51 36\n",
        "gq_G5VCDziyEV2-bzGuqzw 75 49\n",
        "gv6GLZ3-bgSs44PtPJR1Bg"
       ]
      },
      {
       "output_type": "stream",
       "stream": "stdout",
       "text": [
        " 76 67\n",
        "gzJpPaHN-NXBkAZcZri3hw 82 69\n",
        "h7v_M_0-YVpSVZ2WD7FpAA 84 63\n",
        "h9d3VW5RTJymoFoLnN60_w 57 39\n",
        "hDlSSyDreM9xY4yQWPm54w 120 30\n",
        "hFtlFksrcLaWHGPNa6SmeA 152 82\n",
        "hGu-yHlbpo-H8Y2VMy5dcg 53 40\n",
        "hQ1rEj-8VY9vFYYNsjXoxQ 59 35\n",
        "hcctCQy3bdZMezrUKkZLtA 73 47\n",
        "hdZ3rlgFXctCOUhzoOebvA 82 72\n",
        "hfB5Aa8euV8dM0YvP_iLhA 65 57\n",
        "hjJPKQ1Ah91h3fVbc8GsOg 109 69\n",
        "hjPDVLfQsghAHJv6jogDDA 57 34\n",
        "hn_DclKLzdxABRGGAuqKgg 101 56\n",
        "hnirQYfI4cjrzSMENyQTWw 66 46\n",
        "hq0WUfau1Mh3GyHn8oVdNQ 52 37\n",
        "hs8t_DMnNNpf_wXtFE2xpw 92 75\n",
        "i0A-c2yoHySmFhRV2sDR1g"
       ]
      },
      {
       "output_type": "stream",
       "stream": "stdout",
       "text": [
        " 100 96\n",
        "i2TRnWtvxxwJuynRKrw35Q 54 37\n",
        "iBO2m9xXivsIbvFnZHsNvg 91 51\n",
        "iJUVamUkqL6VfEMfyQoujw 80 50\n",
        "iKDDbFu1lyA8-CVlGLFHcw 54 25\n",
        "ikm0UCahtK34LbLCEw4YTw 997 756\n",
        "itn1IcuJSiFb8z34Zv5yGQ"
       ]
      },
      {
       "output_type": "stream",
       "stream": "stdout",
       "text": [
        " 54 43\n",
        "iwUN95LIaEr75TZE_JC6bg 249 180\n",
        "iwWBF3nKoRMoy1sbkLJwvg 82 58\n",
        "iwZ_7QuZ1tzT6pIZmOlDQg 103 56\n",
        "j-kShDJgp5acGhqJAkJHnA 75 52\n",
        "jE5xVugujSaskAoh2DRx3Q 66 35\n",
        "jKeaOrPyJ-dI9SNeVqrbww 90 57\n",
        "jRtdO03kWbReasB_vBlTsQ 68 46\n",
        "jVMOg4mMTEs8kzpwtz7Qkw 55 36\n",
        "jWvzAN1czxypi-GM1KY62g 70 38\n",
        "jXp0eFDh_LNO8JfcGlV3pw 57 46\n",
        "jdeNI5TTTuM6mj3HTgstRA 169 98\n",
        "joIzw_aUiNvBTuGoytrH7g"
       ]
      },
      {
       "output_type": "stream",
       "stream": "stdout",
       "text": [
        " 406 170\n",
        "jopndPrv-H5KW2CfScnw9A 140 89\n",
        "jqVeTSin5GeRm0ceSg-PBA 129 79\n",
        "jvwnIG5wEjdOsqkYJgN29A 74 34\n",
        "jx104chvz7NbkVytXldUGg 57 40\n",
        "k2u1F6spBGhgk2JtAe97QA 60 47\n",
        "k3yuawPEvzlAJPj_RMO0MQ 63 32\n",
        "k4-6lakq7t3kCgbvPxcuvg 73 53\n",
        "k6ZQA3DJ2EfZJMmadBlWNw"
       ]
      },
      {
       "output_type": "stream",
       "stream": "stdout",
       "text": [
        " 53 37\n",
        "kFTTt5Ny21viUUsjc-uFPw 52 34\n",
        "kG8jkVFgOAOq6Ht6RvAjEQ 207 140\n",
        "kGgAARL2UmvCcTRfiscjug 341 254\n",
        "kJyR4gT1pfCcNjEY9-YMoQ 230 83\n",
        "kMiQnYFmAYbjHyyIPGSwoA 53 36\n",
        "kNO6w6EIKo8u6GSykOHBLA 113 77\n",
        "kffxYQVQsEpF1DVlQlcGCg 163 133\n",
        "khPlizt3ava1xkbtAxHQnw 79 66\n",
        "kk05snSafuIFK0lsxoMNzA 84 63\n",
        "kos4MkM2h0UAdupVDuTziQ"
       ]
      },
      {
       "output_type": "stream",
       "stream": "stdout",
       "text": [
        " 62 50\n",
        "kpbhy1zPewGDmdNfNqQp-g 140 99\n",
        "ky9pQ8AKufvZ63IxR41jGg 89 70\n",
        "l2zoX2M4OBuAE_q2A5qW8A 78 38\n",
        "l53FUDHRHLg7BQ89KgAtxQ 160 134\n",
        "l81ILmOhky5bG7o4r3rkhQ 52 37\n",
        "lC4X2crUuxT9Ac9BlOX4Uw 111 95\n",
        "lOvgjEkecLfVJwJriEjt2w 59 42\n",
        "lPaYMDmJbAnv_3pmZH_inw 328 177\n",
        "lczLjHO7zIhrmSlOXI3ohg 52 28\n",
        "liiYhDAP64C8uLyixBDWdg 67 47\n",
        "llkm_iXQszkN5DZvmqjNqA 66 59\n",
        "lmiDCrmas8TxRsbIGZX9Pg 93 74\n",
        "lsp7p2NuC5MX4_iuch3_OA 52 37\n",
        "ltGh04bjEBhwItWVVG7UJg"
       ]
      },
      {
       "output_type": "stream",
       "stream": "stdout",
       "text": [
        " 57 20\n",
        "lwppVF0Yqkuwt-xaEuugqw 63 42\n",
        "m7j9e53ycZxjWYBD7rZVng 83 55\n",
        "m7vtKWpZ9wdEQ95wJxrMrg 265 221\n",
        "mDS8rlDOcgRT3PMHGz3tug 121 89\n",
        "mEgD2AGWGKD_gs-Jf3Ypew 89 64\n",
        "mIGJ761YC06_haLeQ0rgdQ 60 47\n",
        "mQba83gB018LlGt51r80ZQ 66 45\n",
        "mfvezpz6ohS0NQk3DZdvqQ 77 38\n",
        "mjP_3XwUXdptvOpQd0OjBw 62 37\n",
        "mlBC3pN9GXlUUfQi1qBBZA 131 91\n",
        "mmJzZPMT06-4jRhf5L8laQ 55 38\n",
        "mym5tXZoZCbuPCYQzI5Ysg 84 58\n",
        "n6LeAoIuDR3NfIBEsmL_zg"
       ]
      },
      {
       "output_type": "stream",
       "stream": "stdout",
       "text": [
        " 60 33\n",
        "n9Zg0jlOGtxfIrvoPm6Hhw 101 68\n",
        "nDBly08j5URmrHQ2JCbyiw 136 86\n",
        "nMHu8rkh1wkKn5Md0MzNHA 51 32\n",
        "nMwgC0DuMsBR0V5v4-J8wg 51 43\n",
        "nN3Ym_sgqI5EQuC4AIJprA 59 32\n",
        "nP_vZUqkoajeBC4qTV0Mlg 99 77\n",
        "nWouNfZD3Pw08RYizxkqcA 67 44\n",
        "nYfpquFWxQC342RenTI3rA 79 46\n",
        "n_lAaNGeWgspbbCJc0DqRg 155 93\n",
        "nbofxFWHORebBHh10OgYLA 100 66\n",
        "nbxsXJHWdrT11WfvV00Z6g 61 22\n",
        "nc3cqVN0UuB3m50-CcMftw 142 117\n",
        "ngD5RF07pxwlq4euexSluA"
       ]
      },
      {
       "output_type": "stream",
       "stream": "stdout",
       "text": [
        " 60 55\n",
        "o2CGc1kQHEFkYOECM3NFdg 90 43\n",
        "o3FDn0YCRJpGHMPrpuUUpg 55 50\n",
        "o8J-ergbGYjrUy85I_rxzw 138 81\n",
        "oC0kwGvgaAeT3ZIxdxTcJA 50 36\n",
        "oIVsVM8H273aoT1JUmsDIg 63 46\n",
        "oKzkyfGalJC3-BOeLLCcIw 84 53\n",
        "oXBahXJCXUEATm5IVexw8A 63 45\n",
        "ofPkm7BTBJeaD0OkmZNdNQ 50 42\n",
        "ohRev2g3tvXpV3gBnhC-og 128 104\n",
        "omGocLsyIYeiHPviDOAa3w 57 43\n",
        "oy6fdscGSXY2gzRqF9pZxg 95 73\n",
        "p7dvahRPZIWL7T6pFA_0dg 338 157\n",
        "pB6-p_DMF0vLzLkHnO9MeQ 84 30\n",
        "pEVf8GRshP9HUkSpizc9LA"
       ]
      },
      {
       "output_type": "stream",
       "stream": "stdout",
       "text": [
        " 346 281\n",
        "pIm17SVRo8IdhGoBD4qbnA 111 66\n",
        "pQ6ij6cOBRB3yJGHbVZHUQ 143 81\n",
        "pUhzaeZmNU6KvcdvyDy2dw 51 19\n",
        "palND-kF1qpMLhkcgAnSxA 73 36\n",
        "pkgYy4PBrVCT6H0sILmTvA 59 33\n",
        "pprq_7lgBT-WDFGPQe1a_w 85 72\n",
        "pqnYZy25nEwGAAjShOpJGg 61 50\n",
        "pv82zTlB5Txsu2Pusu__FA 102 74\n",
        "pw-k3TMjt1ZNB2-iRVTDlQ 87 76\n",
        "q0KigjVBtb6dfRjX3QJbsQ 52 47\n",
        "q3Fa0PhTGzRl-05fXHIi4g 90 63\n",
        "q5nFaw9isjD_01PpVAR7hg 122 44\n",
        "q9XgOylNsSbqZqF_SO3-OQ"
       ]
      },
      {
       "output_type": "stream",
       "stream": "stdout",
       "text": [
        " 298 159\n",
        "qABKRj1ggJmtvrL9FMFtuA 105 70\n",
        "qASPib1Z8ft8e96dtbh66w 119 77\n",
        "qFZkU_iO6KjU-_5BptIu9A 72 52\n",
        "qQb4pg5uqvjMOfGPWbIkeQ 64 45\n",
        "qQns9dP75RNOWOVWI_ZKZw 64 34\n",
        "qRo9gHN5OiV1-peDuhCh-g 68 52\n",
        "qZrArI2ohkYkQlELl13BKQ 66 40\n",
        "qa05pUVNapADHZXpHMPMeA 95 67\n",
        "qaSf-CGQLWlXmy56pkYQYw 51 30\n",
        "qsdIra27jSpnmCNjJubnrQ 58 44\n",
        "rL3dPeKDTybG_ct9OCXGAA 101 72\n",
        "rLtl8ZkDX5vH5nAx9C3q5Q 279 196\n",
        "rO3WEI9L-_deUR9-JHuNQw 154 72\n",
        "rPGZttaVjRoVi3GYbs62cg 53 37\n",
        "rR5W8Bj-IGu6sw1_1v4m7g 58 36\n",
        "raMSkwLdZ-kFea1fTY_-Ew 63 38\n",
        "rjlb-7-JcmM6fR64ZpyTug"
       ]
      },
      {
       "output_type": "stream",
       "stream": "stdout",
       "text": [
        " 137 111\n",
        "rjsx6_pSqwl0zuiwa_tI2g 59 51\n",
        "rotKO3R8h23YbiLFaZ-BLg 101 80\n",
        "ru8p3RTlk8f9LB_3zLXURQ 98 75\n",
        "s8fJCSltyub39Q1dqzjb6g 80 46\n",
        "sALB8-F04S9VcZMF_GkGUA 166 113\n",
        "sDyaN_3DEZyhnJPUFIwoEg 84 75\n",
        "sEWeeq41k4ohBz4jS_iGRw 113 73\n",
        "sHeD1MXfvJsLSOd9vwQyBQ 52 33\n",
        "sPEFql7fLp0oouFxnooGpQ 64 45\n",
        "sRMG12fVSNEV3v--hxv70Q 68 47\n",
        "szbTVEtATfn8f9GxbGGO5w 100 55\n",
        "t2YBANsJYySOXvHyOjcZkQ 68 48\n",
        "t7Q29WBtZOY7kqDMKKWmhQ 71 41\n",
        "tBvrnSCLSpUdCDm5w5GPkg"
       ]
      },
      {
       "output_type": "stream",
       "stream": "stdout",
       "text": [
        " 154 102\n",
        "tCVQyYHcmOrx2i81C47Tew 63 39\n",
        "tDGOpaWUKuxFh18mAVwIYw 57 35\n",
        "tFyQbNbBQEyEc9oCr1pJUg 54 47\n",
        "tHz9cWxwSfcP4qRaPIHvww 132 83\n",
        "tRBC8zo48KbWIJn_hEG4mA 71 55\n",
        "tXhlRAnR3_GoWvewfQni4Q 89 52\n",
        "tdNV2Wb0LrFpm1Yfov_Klw 133 91\n",
        "thdVzCfKx-DV0zYWqId3pw 230 150\n",
        "tiyg_cQaPdUuSG95Xpi_sA 74 36\n",
        "tlSSQwfHYJany7wPoTH46A 93 44\n",
        "tpOgdsqWcrlFyQSrRIua-g"
       ]
      },
      {
       "output_type": "stream",
       "stream": "stdout",
       "text": [
        " 51 32\n",
        "u1fxUYcCZsiazNmczJh0hQ 88 70\n",
        "uBp2Jmip2qXQ0iWHUDY9sQ 57 39\n",
        "uEG5uD9wMJixGWxaq34IEw 61 38\n",
        "uNbB1uR4EBhmygUc3IfPAw 151 105\n",
        "uO3pavwCb8ylw-aog3Mn6w 53 39\n",
        "uZbTb-u-GVjTa2gtQfry5g 418 272\n",
        "ugoqDrn6cPPD63Pt_CLi8A 52 34\n",
        "unZW1W10KirxTiGPCioizA 83 57\n",
        "uqK3yvpg5Evk_XgzMW-lAw 65 39\n",
        "usQTOj7LQ9v0Fl98gRa3Iw 216 131\n",
        "v26k4Bzy9GiLLlSmDk8LfA"
       ]
      },
      {
       "output_type": "stream",
       "stream": "stdout",
       "text": [
        " 111 80\n",
        "v2UqlUHA8d3lgTIby0CCFQ 96 62\n",
        "v5k-__wHo2xPI25WO-dcQA 72 45\n",
        "v6CGBT0OoLRht9dzo7vaXg 92 71\n",
        "v6rb-4YhADpuD99f3RKmgg 55 43\n",
        "vBvTK-Fqfhl_DACCNaNOWA 92 44\n",
        "vF4B6eFdoDmyV_l7MLHMzw 112 76\n",
        "vHoKL-4FCgGSfDrPr43Opw 89 58\n",
        "vU1bHO3IjqLnf3_9Igeluw 55 40\n",
        "vUBWg3dXVCDWvbGwWLrpbw 135 69\n",
        "vUM21g3cPEdSlI89oDttgw 58 37\n",
        "vWCksqJJfYjGGdD-yb9qGA"
       ]
      },
      {
       "output_type": "stream",
       "stream": "stdout",
       "text": [
        " 81 52\n",
        "vhAn390OgR1H4DwacJdc7w 62 43\n",
        "vhxFLqRok6r-D_aQz0s-JQ 231 128\n",
        "vsXP832M0kOxKpfduD7dWw 224 148\n",
        "vuUddBhwlrVijAAFvK5UTg 78 74\n",
        "vwLmvuSyt2qervMRFennHw 78 52\n",
        "w1LjSa5wMexRIQ-82LKWmQ 88 53\n",
        "wAm7i46tiGxSlxwTp4shjw 65 59\n",
        "wBi0I2QcqZtNOh21WlBVKA 96 73\n",
        "wC1CPV5bf--bDLtlhNSPLg 139 109\n",
        "wFweIWhv2fREZV_dYkz_1g 113 74\n",
        "wHg1YkCzdZq9WBJOTRgxHQ 249 140\n",
        "wLuDGMXytNVTF8ZU2gwUEQ 70 53\n",
        "wMHnLpVNYQY0dlXEMXsP2g"
       ]
      },
      {
       "output_type": "stream",
       "stream": "stdout",
       "text": [
        " 77 57\n",
        "wNqwKWaRjClmcKsoJJRFow 162 116\n",
        "wUEp87FqOB9ew27Iz6zk_w 125 74\n",
        "wVSGZN8d3ao4ad97kEDzYg 82 38\n",
        "w_hcSjqLeSZQL9Rx1UP-Tw 68 42\n",
        "waD2euOMPTnTzQ0thq3H6Q 125 75\n",
        "wcOqMTV92kxOornA42KyoA 76 68\n",
        "weYT-xJwz8o7mLNWIhD6HA 122 81\n",
        "wfvmwhhadHfpM9UoTV0OMA 78 44\n",
        "wqQ-50Sjf9ol3SYaPbA1YQ 106 76\n",
        "wttePGxhTumTTUinL5tlTg 75 48\n",
        "wy8Yd_vCWDjiz9rMo4HfqA 103 69\n",
        "x0r-IamYgKMgF3v7tJ_PTg 51 30\n",
        "x8y1nxyvDJ7fOySblW8mww 53 32\n",
        "xFG4Ca2HHmbxDTkMlmHnjQ 141 70\n",
        "xZvRLPJ1ixhFVomkXSfXAw 97 82\n",
        "xdWsnbaTEfBMVHttqZDHxg 105 58\n",
        "xdl61MWMguYRSunH8CniQw"
       ]
      },
      {
       "output_type": "stream",
       "stream": "stdout",
       "text": [
        " 83 56\n",
        "xfX5LfEnBUWb8iL3B4VqHg 108 82\n",
        "xg4AdOGHFxJyWByFbG8stA 66 44\n",
        "xgrNgHOs8F5JvEX38IeCJg 59 46\n",
        "y0kjuHVdGQhLd-bqQ0gZnA 65 46\n",
        "y4JCKsEm0KlwtmHpZhbA4A 57 30\n",
        "y5_vrqIylhXMrejM_-x_vA 151 112\n",
        "y7sq26EXGz7XG7DSo8TOuQ"
       ]
      },
      {
       "output_type": "stream",
       "stream": "stdout",
       "text": [
        " 115 88\n",
        "y9IKf7VckFc-fesWuDwgxg 53 27\n",
        "yJ22u_1l01H4NM3wCowIKw 76 52\n",
        "yXa1HFUJ3BtSqkDwTHdAUQ 62 48\n",
        "yhZxCcGyhltqsJN6foL_Wg 66 24\n",
        "yp90PduP1gD7kgCLWuQg4w 68 45\n",
        "yuPBS3fak77lgwO_9SXVYQ 91 70\n",
        "z06IHGXI_ofBc2DkAbCgnA 64 49\n",
        "z5g5Lclwt13_BO0BStohMA 52 33\n",
        "zCC6huLkNBEr3JUgQyxJbg 176 116\n",
        "zGz5NI4sscO4_6YYH-qVtA 61 41\n",
        "zHH2Iz49wCZYYDLBTv0YOg 66 40\n",
        "zJ7Rvp193kl9L0ue-rDxyw 59 43\n",
        "zdPRXhhJNCiCOgWQwoPlpg"
       ]
      },
      {
       "output_type": "stream",
       "stream": "stdout",
       "text": [
        " 94 68\n",
        "zfysCL-0uQNCWdGvzZ6QWA 79 63\n",
        "zuoeE7GdXXlCgr995ImWfQ 85 44\n"
       ]
      }
     ],
     "prompt_number": 17
    },
    {
     "cell_type": "code",
     "collapsed": false,
     "input": [],
     "language": "python",
     "metadata": {},
     "outputs": []
    }
   ],
   "metadata": {}
  }
 ]
}