{
 "metadata": {
  "name": ""
 },
 "nbformat": 3,
 "nbformat_minor": 0,
 "worksheets": [
  {
   "cells": [
    {
     "cell_type": "code",
     "collapsed": false,
     "input": [
      "from pandas import *\n",
      "import json\n",
      "import numpy as np\n",
      "import matplotlib.pyplot as plt"
     ],
     "language": "python",
     "metadata": {},
     "outputs": [],
     "prompt_number": 1
    },
    {
     "cell_type": "code",
     "collapsed": false,
     "input": [
      "ls"
     ],
     "language": "python",
     "metadata": {},
     "outputs": [
      {
       "output_type": "stream",
       "stream": "stdout",
       "text": [
        "README.md             data-set.ipynb        pre-proceess.ipynb\r\n",
        "data-set-Copy0.ipynb  \u001b[34mdataset\u001b[m\u001b[m/\r\n"
       ]
      }
     ],
     "prompt_number": 2
    },
    {
     "cell_type": "code",
     "collapsed": false,
     "input": [
      "review_50 = 'dataset/review-50.json'\n",
      "review_20 = 'dataset/review-20.json'"
     ],
     "language": "python",
     "metadata": {},
     "outputs": [],
     "prompt_number": 3
    },
    {
     "cell_type": "code",
     "collapsed": false,
     "input": [
      "revDf = read_json(review_50)"
     ],
     "language": "python",
     "metadata": {},
     "outputs": [],
     "prompt_number": 4
    },
    {
     "cell_type": "code",
     "collapsed": false,
     "input": [
      "revDf"
     ],
     "language": "python",
     "metadata": {},
     "outputs": [
      {
       "html": [
        "<pre>\n",
        "&lt;class 'pandas.core.frame.DataFrame'&gt;\n",
        "Int64Index: 129851 entries, 1000069 to 999893\n",
        "Data columns (total 8 columns):\n",
        "business_id    129851  non-null values\n",
        "date           129851  non-null values\n",
        "review_id      129851  non-null values\n",
        "stars          129851  non-null values\n",
        "text           129851  non-null values\n",
        "type           129851  non-null values\n",
        "user_id        129851  non-null values\n",
        "votes          129851  non-null values\n",
        "dtypes: datetime64[ns](1), int64(1), object(6)\n",
        "</pre>"
       ],
       "metadata": {},
       "output_type": "pyout",
       "prompt_number": 5,
       "text": [
        "<class 'pandas.core.frame.DataFrame'>\n",
        "Int64Index: 129851 entries, 1000069 to 999893\n",
        "Data columns (total 8 columns):\n",
        "business_id    129851  non-null values\n",
        "date           129851  non-null values\n",
        "review_id      129851  non-null values\n",
        "stars          129851  non-null values\n",
        "text           129851  non-null values\n",
        "type           129851  non-null values\n",
        "user_id        129851  non-null values\n",
        "votes          129851  non-null values\n",
        "dtypes: datetime64[ns](1), int64(1), object(6)"
       ]
      }
     ],
     "prompt_number": 5
    },
    {
     "cell_type": "code",
     "collapsed": false,
     "input": [
      "len(revDf.groupby('business_id'))"
     ],
     "language": "python",
     "metadata": {},
     "outputs": [
      {
       "metadata": {},
       "output_type": "pyout",
       "prompt_number": 57,
       "text": [
        "10763"
       ]
      }
     ],
     "prompt_number": 57
    },
    {
     "cell_type": "code",
     "collapsed": false,
     "input": [
      "grouped = revDf.groupby('user_id')\n",
      "grouped.size()"
     ],
     "language": "python",
     "metadata": {},
     "outputs": [
      {
       "metadata": {},
       "output_type": "pyout",
       "prompt_number": 10,
       "text": [
        "user_id\n",
        "--65q1FpAL_UQtVZ2PTGew    136\n",
        "-2PFmYGWB6rQhZtRh6PlPA     66\n",
        "-4ld1qpaBNLocSBe85jWnw     84\n",
        "-9mljS0O9mwdOnGv-Oea3Q     85\n",
        "-DRza4wuHHWfQx5HcG6qaw     58\n",
        "-Dof9NwAoQwRM-GVPZk5zw     51\n",
        "-F32Vl8Rk4dwsmk0f2wRIw    116\n",
        "-K3ZjROK0ml2P-Rk7ttHzA    161\n",
        "-KCR0e2Nyc7a7qvqnr9njQ     59\n",
        "-OMlS6yWkYjVldNhC31wYg     58\n",
        "-XkW4sYeXhvfoUXvTUL-gg     73\n",
        "-a7d79eTKvmkpHZT7ePYDQ    112\n",
        "-k-juS7vkLZVqQJj2WzIRQ     53\n",
        "-kIvLyWpY17aRa0vPp-RmA    113\n",
        "-oTBPHzif6mUpj6KggLi9A     70\n",
        "...\n",
        "yuPBS3fak77lgwO_9SXVYQ     92\n",
        "z06IHGXI_ofBc2DkAbCgnA     64\n",
        "z5g5Lclwt13_BO0BStohMA     52\n",
        "zCC6huLkNBEr3JUgQyxJbg    178\n",
        "zGz5NI4sscO4_6YYH-qVtA     61\n",
        "zHH2Iz49wCZYYDLBTv0YOg     66\n",
        "zJ7Rvp193kl9L0ue-rDxyw     59\n",
        "zRETaVK0hfu_LVSbaksSOA     51\n",
        "zTWH9b_ItSdLOK9ypeFOIw    329\n",
        "zbUpiea2aiJSKXjj2zQ5yw    145\n",
        "zdPRXhhJNCiCOgWQwoPlpg     94\n",
        "zfysCL-0uQNCWdGvzZ6QWA     79\n",
        "zj0mDTp9IiCtX30UoqWs4A     58\n",
        "zo2PHkxPCVvyo9AoCwCb3g     79\n",
        "zuoeE7GdXXlCgr995ImWfQ     88\n",
        "Length: 1310, dtype: int64"
       ]
      }
     ],
     "prompt_number": 10
    },
    {
     "cell_type": "code",
     "collapsed": false,
     "input": [
      "size = grouped.size()\n",
      "for i in grouped.indices:\n",
      "    print i, size[i], round(0.8*size[i])\n",
      "    grouped\n",
      "    break"
     ],
     "language": "python",
     "metadata": {},
     "outputs": [
      {
       "output_type": "stream",
       "stream": "stdout",
       "text": [
        "BjwXX-sChcjx2E55B_7rXg 115\n",
        "92.0\n"
       ]
      }
     ],
     "prompt_number": 55
    },
    {
     "cell_type": "code",
     "collapsed": false,
     "input": [
      "test = [[1,\"this test\"], [2, \"i dont know\"], [1, \"hope it works\"]]"
     ],
     "language": "python",
     "metadata": {},
     "outputs": [],
     "prompt_number": 34
    },
    {
     "cell_type": "code",
     "collapsed": false,
     "input": [
      "temp = DataFrame(test, columns=['id','text'])"
     ],
     "language": "python",
     "metadata": {},
     "outputs": [],
     "prompt_number": 35
    },
    {
     "cell_type": "code",
     "collapsed": false,
     "input": [
      "temp"
     ],
     "language": "python",
     "metadata": {},
     "outputs": [
      {
       "html": [
        "<div style=\"max-height:1000px;max-width:1500px;overflow:auto;\">\n",
        "<table border=\"1\" class=\"dataframe\">\n",
        "  <thead>\n",
        "    <tr style=\"text-align: right;\">\n",
        "      <th></th>\n",
        "      <th>id</th>\n",
        "      <th>text</th>\n",
        "    </tr>\n",
        "  </thead>\n",
        "  <tbody>\n",
        "    <tr>\n",
        "      <th>0</th>\n",
        "      <td> 1</td>\n",
        "      <td>     this test</td>\n",
        "    </tr>\n",
        "    <tr>\n",
        "      <th>1</th>\n",
        "      <td> 2</td>\n",
        "      <td>   i dont know</td>\n",
        "    </tr>\n",
        "    <tr>\n",
        "      <th>2</th>\n",
        "      <td> 1</td>\n",
        "      <td> hope it works</td>\n",
        "    </tr>\n",
        "  </tbody>\n",
        "</table>\n",
        "</div>"
       ],
       "metadata": {},
       "output_type": "pyout",
       "prompt_number": 36,
       "text": [
        "   id           text\n",
        "0   1      this test\n",
        "1   2    i dont know\n",
        "2   1  hope it works"
       ]
      }
     ],
     "prompt_number": 36
    },
    {
     "cell_type": "code",
     "collapsed": false,
     "input": [
      "tt = temp.groupby('id')['text'].apply(lambda x: ' '.join(x))"
     ],
     "language": "python",
     "metadata": {},
     "outputs": [],
     "prompt_number": 42
    },
    {
     "cell_type": "code",
     "collapsed": false,
     "input": [
      "tt"
     ],
     "language": "python",
     "metadata": {},
     "outputs": [
      {
       "metadata": {},
       "output_type": "pyout",
       "prompt_number": 43,
       "text": [
        "id\n",
        "1     this test hope it works\n",
        "2                 i dont know\n",
        "dtype: object"
       ]
      }
     ],
     "prompt_number": 43
    },
    {
     "cell_type": "code",
     "collapsed": false,
     "input": [],
     "language": "python",
     "metadata": {},
     "outputs": []
    }
   ],
   "metadata": {}
  }
 ]
}